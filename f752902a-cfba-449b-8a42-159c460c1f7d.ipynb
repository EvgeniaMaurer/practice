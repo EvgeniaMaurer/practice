{
 "cells": [
  {
   "cell_type": "markdown",
   "id": "dc65e170",
   "metadata": {},
   "source": [
    "<div style=\"border:solid green 2px; padding: 20px\">\n",
    "    \n",
    "<b>Евгения, привет!</b> Мы рады тебя видеть на территории код-ревьюеров. 😎 Ты проделала большую работу над проектом, но давай познакомимся и сделаем его еще лучше! У нас тут своя атмосфера и несколько правил:\n",
    "\n",
    "\n",
    "1. Это снова Александр Матвеевский. Я работаю код-ревьюером, моя основная цель — не указать на совершенные тобою ошибки, а поделиться своим опытом и помочь тебе стать аналитиком данных.\n",
    "2. Общаемся на ты.\n",
    "3. Если хочешь написать, спросить - не нужно стесняться. Только выбери свой цвет для комментария.  \n",
    "4. Это учебный проект, тут можно не бояться сделать ошибку.  \n",
    "5. У нас с тобой 6 попыток для сдачи проекта   \n",
    "6. Let's Go!\n",
    "\n",
    "---\n",
    "\n",
    "Я буду красить комментарии цветом, пожалуйста, не удаляй их:\n",
    "\n",
    "<div class=\"alert alert-block alert-danger\">✍\n",
    "    \n",
    "\n",
    "__Комментарий от ревьюера №1__\n",
    "\n",
    "Такой комментарий нужно исправить обязательно, он критически влияет на удачное выполнение проекта.\n",
    "</div>\n",
    "    \n",
    "---\n",
    "\n",
    "<div class=\"alert alert-block alert-warning\">📝\n",
    "    \n",
    "\n",
    "__Комментарий от ревьюера №1__\n",
    "\n",
    "\n",
    "Такой комментарий является рекомендацией или советом. Можешь использовать их на своё усмотрение.\n",
    "</div>\n",
    "\n",
    "---\n",
    "\n",
    "<div class=\"alert alert-block alert-success\">✔️\n",
    "    \n",
    "\n",
    "__Комментарий от ревьюера №1__\n",
    "\n",
    "Такой комментарий  говорит о том, что было сделано что-то качественное и правильное =)\n",
    "</div>\n",
    "    \n",
    "---\n",
    "    \n",
    "Предлагаю работать над проектом в диалоге: если ты что-то меняешь в проекте или отвечаешь на мои комментарии — пиши об этом. Мне будет легче отследить изменения, если ты выделишь свои комментарии:   \n",
    "    \n",
    "<div class=\"alert alert-info\"> <b>Комментарии студента:</b> Например, вот так.</div>\n",
    "    \n",
    "Всё это поможет выполнить повторную проверку твоего проекта оперативнее. Если будут какие-нибудь вопросы по моим комментариям, пиши, будем разбираться вместе :)    \n",
    "    \n",
    "---"
   ]
  },
  {
   "cell_type": "markdown",
   "id": "0904d872",
   "metadata": {},
   "source": []
  },
  {
   "attachments": {
    "image.png": {
     "image/png": "[encoded data removed]"
    }
   },
   "cell_type": "markdown",
   "id": "8b14f474",
   "metadata": {},
   "source": [
    "<div class=\"alert alert-block alert-danger\">✍\n",
    "    \n",
    "\n",
    "__Комментарий от ревьюера №1__\n",
    "\n",
    "    \n",
    "К сожалению некоторые блоки кода не работают. Пожалуйста, используй модули которые доступны в весии ЯП. Перед отправкой проекта его стоит проверить на корректность с помощью Kernell-Restart and Run all ![image.png](attachment:image.png)\n",
    "    \n"
   ]
  },
  {
   "cell_type": "markdown",
   "id": "b00744e2",
   "metadata": {},
   "source": [
    "<div class=\"alert alert-info\"> <b> Комментарий студента v1:</b>  Глупый вопрос: а ты обновлял страницу и чдро? Просто я обновляла ядро множество раз, не понимаю, что нужно исправить, вроде бы другие студенты посоветовали добавить строку, но опять же у меня всё равно всё работает и без. если вдруг не будет работать, можешь посоветовать что именно исправить? я брала код из прошлых проектов, делала всё тут, без выгрузки, на телефоне у меня тоже всё нормально отображается, не хотелось бы терять ещё одну итерацию на этом. </div>    "
   ]
  },
  {
   "cell_type": "markdown",
   "id": "47505da8",
   "metadata": {},
   "source": [
    "<div class=\"alert alert-block alert-success\">✔️\n",
    "    \n",
    "\n",
    "__Комментарий от ревьюера №1__\n",
    "\n",
    "Да, страницу обновлял. Вместе с коллегой нашли небольшой баг на стороне библиотек (получилось, что на моем аккаунте слетели версии библиотек). Сейчас все поправлено\n",
    "    \n",
    "Прошу прощения, со своей стороны обещаю последующие итерации вне очереди)"
   ]
  },
  {
   "cell_type": "markdown",
   "id": "cf86bc44",
   "metadata": {},
   "source": [
    "<div class=\"alert alert-info\"> <b> Комментарий студента v2:</b>  Понимаю, испугалась, что у меня что-то совсем не работает </div>    "
   ]
  },
  {
   "cell_type": "markdown",
   "id": "_E41Wr5fqnFT",
   "metadata": {
    "id": "_E41Wr5fqnFT"
   },
   "source": [
    "# Часть 1. Проверка гипотезы в Python и составление аналитической записки"
   ]
  },
  {
   "cell_type": "markdown",
   "id": "Z5_6nf-FrY7o",
   "metadata": {
    "id": "Z5_6nf-FrY7o"
   },
   "source": [
    "Вы предобработали данные в SQL, и теперь они готовы для проверки гипотезы в Python. Загрузите данные пользователей из Москвы и Санкт-Петербурга c суммой часов их активности из файла yandex_knigi_data.csv. Если работаете локально, скачать файл можно по ссылке.\n",
    "\n",
    "Проверьте наличие дубликатов в идентификаторах пользователей. Сравните размеры групп, их статистики и распределение.\n",
    "\n",
    "Напомним, как выглядит гипотеза: пользователи из Москвы проводят в среднем больше времени за чтением и прослушиванием книг в приложении, чем пользователи из Москвы. Попробуйте статистически это доказать, используя одностороннюю проверку гипотезы с двумя выборками:\n",
    "\n",
    "Нулевая гипотеза $H_0: \\mu_{\\text{СПб}} \\leq \\mu_{\\text{Москва}}$ <br> Среднее время активности пользователей в Санкт-Петербурге не больше, чем в Москве.\n",
    "\n",
    "Альтернативная гипотеза $H_1: \\mu_{\\text{СПб}} > \\mu_{\\text{Москва}}$ <br> Среднее время активности пользователей в Санкт-Петербурге больше, и это различие статистически значимо.\n",
    "\n",
    "По результатам анализа данных подготовьте аналитическую записку, в которой опишите:\n",
    "\n",
    "Выбранный тип t-теста и уровень статистической значимости.\n",
    "\n",
    "Результат теста, или p-value.\n",
    "\n",
    "Вывод на основе полученного p-value, то есть интерпретацию результатов.\n",
    "\n",
    "Одну или две возможные причины, объясняющие полученные результаты."
   ]
  },
  {
   "cell_type": "markdown",
   "id": "26912380",
   "metadata": {},
   "source": [
    "<div class=\"alert alert-info\"> <b> Привет!</b>  Меня зовут Женя и вопросы по ходу проекта я буду оставлять в подбных ячейках. </div>    "
   ]
  },
  {
   "cell_type": "markdown",
   "id": "9d0493a7",
   "metadata": {},
   "source": [
    "<div class=\"alert alert-block alert-success\">✔️\n",
    "    \n",
    "\n",
    "__Комментарий от ревьюера №1__ Хорошее вступление!\n",
    "    \n",
    "В нём есть всё, что необходимо, чтобы понять суть проекта с первых строк отчёта!"
   ]
  },
  {
   "cell_type": "markdown",
   "id": "e06910dd",
   "metadata": {
    "id": "e06910dd"
   },
   "source": [
    "## Работа с данными Яндекс.Книги: активность пользователей из Москвы и Санкт-Петербурга \n",
    "\n",
    "- Автор: Маурэр Евгения Владимировна\n",
    "- Дата: 19.04.2025 года"
   ]
  },
  {
   "cell_type": "markdown",
   "id": "4149134c",
   "metadata": {
    "id": "4149134c"
   },
   "source": [
    "## Цели и задачи проекта\n",
    "\n",
    "**Цель проекта**: исследование активности пользователей сервиса Яндекс.Книги из Москвы и Санкт-Петербурга в разрезе длительности использования приложения (чтение и прослушивание книг). \n",
    "    \n",
    "Для достижения данной цели, необходимо решить несколько задач:\n",
    " - вычислить несколько релевантных метрик;\n",
    " - сформулировать гипотезу о соотношении активности пользователей из Москвы и Санкт-Петербурга;\n",
    " - статистически проверить выдвинутую гипотезу;\n",
    " - сформулировать выводы/рекомендации на основании полученных данных статистического анализа."
   ]
  },
  {
   "cell_type": "markdown",
   "id": "728986ea",
   "metadata": {
    "id": "728986ea"
   },
   "source": [
    "## Описание данных\n",
    "\n",
    "Таблица с данными пользователей из Москвы и Санкт-Петербурга состоит из 4 столбцов:\n",
    "\n",
    "    1. Unnamed - дублирует индекс строки.\n",
    "    2. city - содержит информацию о городе пользователя.\n",
    "    3. puid - уникательный идентификационный номер пользователя.\n",
    "    4. hours - содержит информацию о средней длительности использования приложения пользователем (данные в часах)."
   ]
  },
  {
   "cell_type": "markdown",
   "id": "4fecaf95",
   "metadata": {
    "id": "4fecaf95"
   },
   "source": [
    "## Содержимое проекта\n",
    "\n",
    " * Загрузка данных и знакомство с ними\n",
    " * Проверка гипотезы в Python\n",
    " * Аналитическая записка"
   ]
  },
  {
   "cell_type": "markdown",
   "id": "6f7d21d6",
   "metadata": {
    "id": "6f7d21d6"
   },
   "source": [
    "## Загрузка данных и знакомство с ними\n",
    "\n",
    "Загрузите данные пользователей из Москвы и Санкт-Петербурга c их активностью (суммой часов чтения и прослушивания) из файла `/datasets/yandex_knigi_data.csv`."
   ]
  },
  {
   "cell_type": "code",
   "execution_count": 1,
   "id": "ab7d6ca9",
   "metadata": {},
   "outputs": [],
   "source": [
    "!pip install matplotlib-venn -q\n",
    "\n",
    "import pandas as pd\n",
    "import numpy as np\n",
    "import matplotlib.pyplot as plt\n",
    "from matplotlib_venn import venn2\n",
    "import matplotlib.cm as cm \n",
    "import seaborn as sns\n",
    "from scipy import stats as st\n",
    "from scipy.stats import ttest_ind\n",
    "\n",
    "from statsmodels.stats.proportion import proportions_ztest\n",
    "from statsmodels.stats.power import NormalIndPower\n",
    "from statsmodels.stats.proportion import proportion_effectsize"
   ]
  },
  {
   "cell_type": "markdown",
   "id": "d60bcd27",
   "metadata": {},
   "source": [
    "<div class=\"alert alert-block alert-success\">✔️\n",
    "    \n",
    "\n",
    "__Комментарий от ревьюера №1__ Хорошее вступление!\n",
    "    \n",
    "Хорошо, модули загружены"
   ]
  },
  {
   "cell_type": "code",
   "execution_count": 2,
   "id": "05faf34b",
   "metadata": {
    "id": "05faf34b"
   },
   "outputs": [
    {
     "data": {
      "text/html": [
       "<div>\n",
       "<style scoped>\n",
       "    .dataframe tbody tr th:only-of-type {\n",
       "        vertical-align: middle;\n",
       "    }\n",
       "\n",
       "    .dataframe tbody tr th {\n",
       "        vertical-align: top;\n",
       "    }\n",
       "\n",
       "    .dataframe thead th {\n",
       "        text-align: right;\n",
       "    }\n",
       "</style>\n",
       "<table border=\"1\" class=\"dataframe\">\n",
       "  <thead>\n",
       "    <tr style=\"text-align: right;\">\n",
       "      <th></th>\n",
       "      <th>Unnamed: 0</th>\n",
       "      <th>city</th>\n",
       "      <th>puid</th>\n",
       "      <th>hours</th>\n",
       "    </tr>\n",
       "  </thead>\n",
       "  <tbody>\n",
       "    <tr>\n",
       "      <th>0</th>\n",
       "      <td>0</td>\n",
       "      <td>Москва</td>\n",
       "      <td>9668</td>\n",
       "      <td>26.167776</td>\n",
       "    </tr>\n",
       "    <tr>\n",
       "      <th>1</th>\n",
       "      <td>1</td>\n",
       "      <td>Москва</td>\n",
       "      <td>16598</td>\n",
       "      <td>82.111217</td>\n",
       "    </tr>\n",
       "    <tr>\n",
       "      <th>2</th>\n",
       "      <td>2</td>\n",
       "      <td>Москва</td>\n",
       "      <td>80401</td>\n",
       "      <td>4.656906</td>\n",
       "    </tr>\n",
       "    <tr>\n",
       "      <th>3</th>\n",
       "      <td>3</td>\n",
       "      <td>Москва</td>\n",
       "      <td>140205</td>\n",
       "      <td>1.840556</td>\n",
       "    </tr>\n",
       "    <tr>\n",
       "      <th>4</th>\n",
       "      <td>4</td>\n",
       "      <td>Москва</td>\n",
       "      <td>248755</td>\n",
       "      <td>151.326434</td>\n",
       "    </tr>\n",
       "  </tbody>\n",
       "</table>\n",
       "</div>"
      ],
      "text/plain": [
       "   Unnamed: 0    city    puid       hours\n",
       "0           0  Москва    9668   26.167776\n",
       "1           1  Москва   16598   82.111217\n",
       "2           2  Москва   80401    4.656906\n",
       "3           3  Москва  140205    1.840556\n",
       "4           4  Москва  248755  151.326434"
      ]
     },
     "execution_count": 2,
     "metadata": {},
     "output_type": "execute_result"
    }
   ],
   "source": [
    "df = pd.read_csv('/datasets/yandex_knigi_data.csv')\n",
    "\n",
    "df.head()"
   ]
  },
  {
   "cell_type": "markdown",
   "id": "aebdd6c7",
   "metadata": {},
   "source": []
  },
  {
   "cell_type": "markdown",
   "id": "a476101b",
   "metadata": {},
   "source": [
    "<div class=\"alert alert-info\"> <b> Комментарий студента v1:</b>  Я не поняла, почему у нас изменились данные по сравнению с тем, как мы сформировали данную таблицу в тренажере - почему айди пользователя превратился из длинного число-буквенного обозначения в просто численное?  </div>    "
   ]
  },
  {
   "cell_type": "markdown",
   "id": "ffbc7d38",
   "metadata": {},
   "source": [
    "<div class=\"alert alert-block alert-success\">✔️\n",
    "    \n",
    "\n",
    "__Комментарий от ревьюера №1__\n",
    "\n",
    "Этот столбец появляется, когда ты сохраняешь DataFrame в CSV вместе с индексом, а потом читаешь его обратно без указания, что это индекс. Pandas в таком случае считает индекс отдельным столбцом и называет его Unnamed: 0.\n",
    "\n",
    "Почему так вышло:\n",
    "\n",
    "Когда таблица сохранялась, у неё был индекс (0, 1, 2 и т.д.), и он попал в CSV-файл.\n",
    "\n",
    "При загрузке pd.read_csv() не получил указание, что этот столбец — это индекс, поэтому он просто добавил его как обычный столбец с именем Unnamed: 0."
   ]
  },
  {
   "cell_type": "code",
   "execution_count": 3,
   "id": "f68a7419",
   "metadata": {
    "id": "f68a7419"
   },
   "outputs": [
    {
     "name": "stdout",
     "output_type": "stream",
     "text": [
      "<class 'pandas.core.frame.DataFrame'>\n",
      "RangeIndex: 8784 entries, 0 to 8783\n",
      "Data columns (total 4 columns):\n",
      " #   Column      Non-Null Count  Dtype  \n",
      "---  ------      --------------  -----  \n",
      " 0   Unnamed: 0  8784 non-null   int64  \n",
      " 1   city        8784 non-null   object \n",
      " 2   puid        8784 non-null   int64  \n",
      " 3   hours       8784 non-null   float64\n",
      "dtypes: float64(1), int64(2), object(1)\n",
      "memory usage: 274.6+ KB\n"
     ]
    }
   ],
   "source": [
    "df.info()"
   ]
  },
  {
   "cell_type": "code",
   "execution_count": 4,
   "id": "95ff8088",
   "metadata": {},
   "outputs": [
    {
     "name": "stdout",
     "output_type": "stream",
     "text": [
      "Количество явных дубликатов: 0\n",
      "Количество неявных дубликатов (повторяющиеся айди): 244\n",
      "Количество неявных дубликатов (айди и город): 0\n",
      "Количество неявных дубликатов (айди и часы): 0\n",
      "Количество неявных дубликатов (айди, город и часы): 0\n"
     ]
    }
   ],
   "source": [
    "count_duplicates = df.duplicated().sum() \n",
    "count_original_data_rows = df.shape[0]\n",
    "print(f'Количество явных дубликатов: {count_duplicates}')\n",
    "\n",
    "count_duplicates_2 = df[['puid']].duplicated().sum() \n",
    "print(f'Количество неявных дубликатов (повторяющиеся айди): {count_duplicates_2}')\n",
    "\n",
    "count_duplicates_3 = df[['puid', 'city']].duplicated().sum() \n",
    "print(f'Количество неявных дубликатов (айди и город): {count_duplicates_3}')\n",
    "\n",
    "count_duplicates_4 = df[['puid', 'hours']].duplicated().sum() \n",
    "print(f'Количество неявных дубликатов (айди и часы): {count_duplicates_4}')\n",
    "\n",
    "count_duplicates_5 = df[['puid', 'city', 'hours']].duplicated().sum() \n",
    "print(f'Количество неявных дубликатов (айди, город и часы): {count_duplicates_5}')"
   ]
  },
  {
   "cell_type": "code",
   "execution_count": 5,
   "id": "ab662096",
   "metadata": {},
   "outputs": [],
   "source": [
    "df = df.drop_duplicates(subset=['puid'])"
   ]
  },
  {
   "cell_type": "markdown",
   "id": "1b4c51f3",
   "metadata": {},
   "source": [
    "<div class=\"alert alert-block alert-success\">✔️\n",
    "    \n",
    "\n",
    "__Комментарий от ревьюера №1__\n",
    "    \n",
    "Отлично. Дубликаты обработаны    "
   ]
  },
  {
   "cell_type": "markdown",
   "id": "cd7c8c59",
   "metadata": {},
   "source": [
    "Мы загрузили данные пользователей в датасет, который состоит из 8784 строк и 4 столбцов, один из которых явно является дублированием индексов строк. В столбцах отсутствуют пропущенные значения, а также отсутствуют явные дубликаты, но присутствуют повторяющиеся айди пользователей, которые необходимо исключить для чистоты анализа."
   ]
  },
  {
   "cell_type": "markdown",
   "id": "956e82e2",
   "metadata": {
    "id": "956e82e2"
   },
   "source": [
    "##  Проверка гипотезы в Python\n",
    "\n",
    "Гипотеза звучит так: пользователи из Санкт-Петербурга проводят в среднем больше времени за чтением и прослушиванием книг в приложении, чем пользователи из Москвы. Попробуйте статистически это доказать, используя одностороннюю проверку гипотезы с двумя выборками:\n",
    "\n",
    "- Нулевая гипотеза H₀: Средняя активность пользователей в часах в двух группах (Москва и Санкт-Петербург) не различается.\n",
    "\n",
    "- Альтернативная гипотеза H₁: Средняя активность пользователей в Санкт-Петербурге больше, и это различие статистически значимо."
   ]
  },
  {
   "cell_type": "markdown",
   "id": "4f85cc63",
   "metadata": {},
   "source": [
    "<div class=\"alert alert-block alert-success\">✔️\n",
    "    \n",
    "\n",
    "__Комментарий от ревьюера №1__\n",
    "\n",
    "Верная интерпретация гипотез. Так держать!)"
   ]
  },
  {
   "cell_type": "code",
   "execution_count": 6,
   "id": "67956690",
   "metadata": {
    "id": "67956690"
   },
   "outputs": [
    {
     "data": {
      "text/plain": [
       "city\n",
       "Москва             6234\n",
       "Санкт-Петербург    2306\n",
       "Name: puid, dtype: int64"
      ]
     },
     "execution_count": 6,
     "metadata": {},
     "output_type": "execute_result"
    }
   ],
   "source": [
    "# Посмотрим размер двух выборок\n",
    "df_groups = df.groupby('city')['puid'].nunique()\n",
    "\n",
    "df_groups"
   ]
  },
  {
   "cell_type": "code",
   "execution_count": 7,
   "id": "1031f33b",
   "metadata": {},
   "outputs": [
    {
     "data": {
      "image/png": "[encoded data removed]",
      "text/plain": [
       "<Figure size 432x288 with 1 Axes>"
      ]
     },
     "metadata": {},
     "output_type": "display_data"
    }
   ],
   "source": [
    "# Оценим, нет ли пересекающихся пользователей в двух выборках (подтвердим независимость)\n",
    "\n",
    "group_m_id = set(df[df['city']=='Москва']['puid'])\n",
    "group_spb_id = set(df[df['city']=='Санкт-Петербург']['puid'])\n",
    "\n",
    "venn2([group_m_id, group_spb_id], set_labels=('Москва', 'Санкт-Петербург'))\n",
    "\n",
    "plt.title('Пересечение уникальных пользователей в выборках', fontsize=14, fontweight='bold')\n",
    "plt.show()  "
   ]
  },
  {
   "cell_type": "code",
   "execution_count": 8,
   "id": "4a2eb87e",
   "metadata": {},
   "outputs": [
    {
     "data": {
      "image/png": "[encoded data removed]",
      "text/plain": [
       "<Figure size 720x432 with 1 Axes>"
      ]
     },
     "metadata": {
      "needs_background": "light"
     },
     "output_type": "display_data"
    }
   ],
   "source": [
    "# Посмотрим, как распределяются значения часов использования приложения в двух выборках\n",
    "\n",
    "plt.figure(figsize=(10, 6))\n",
    "sns.histplot(data=df, x='hours', hue='city', bins=30, kde=True, element='step')\n",
    "\n",
    "plt.title('Распределение часов использования приложения по городам', fontsize=14, fontweight='bold')\n",
    "plt.xlabel('Часы использования')\n",
    "plt.ylabel('Количество пользователей')\n",
    "plt.grid(linestyle='--')\n",
    "plt.grid(True)\n",
    "plt.show()"
   ]
  },
  {
   "cell_type": "code",
   "execution_count": 9,
   "id": "1dbe2733",
   "metadata": {},
   "outputs": [
    {
     "data": {
      "image/png": "[encoded data removed]",
      "text/plain": [
       "<Figure size 576x432 with 1 Axes>"
      ]
     },
     "metadata": {
      "needs_background": "light"
     },
     "output_type": "display_data"
    }
   ],
   "source": [
    "plt.figure(figsize=(8, 6))\n",
    "sns.boxplot(data=df, y='city', x='hours')\n",
    "plt.title('Распределение времени использования приложения по городам', fontsize=14, fontweight='bold')\n",
    "plt.ylabel('')\n",
    "plt.xlabel('Часы использования')\n",
    "plt.grid(axis='y', linestyle='--')\n",
    "plt.show()"
   ]
  },
  {
   "cell_type": "code",
   "execution_count": 10,
   "id": "b8d33bd3",
   "metadata": {},
   "outputs": [
    {
     "data": {
      "text/html": [
       "<div>\n",
       "<style scoped>\n",
       "    .dataframe tbody tr th:only-of-type {\n",
       "        vertical-align: middle;\n",
       "    }\n",
       "\n",
       "    .dataframe tbody tr th {\n",
       "        vertical-align: top;\n",
       "    }\n",
       "\n",
       "    .dataframe thead th {\n",
       "        text-align: right;\n",
       "    }\n",
       "</style>\n",
       "<table border=\"1\" class=\"dataframe\">\n",
       "  <thead>\n",
       "    <tr style=\"text-align: right;\">\n",
       "      <th></th>\n",
       "      <th>mean</th>\n",
       "      <th>std</th>\n",
       "      <th>min</th>\n",
       "      <th>max</th>\n",
       "    </tr>\n",
       "    <tr>\n",
       "      <th>city</th>\n",
       "      <th></th>\n",
       "      <th></th>\n",
       "      <th></th>\n",
       "      <th></th>\n",
       "    </tr>\n",
       "  </thead>\n",
       "  <tbody>\n",
       "    <tr>\n",
       "      <th>Москва</th>\n",
       "      <td>10.881092</td>\n",
       "      <td>36.851683</td>\n",
       "      <td>0.000018</td>\n",
       "      <td>857.209373</td>\n",
       "    </tr>\n",
       "    <tr>\n",
       "      <th>Санкт-Петербург</th>\n",
       "      <td>11.264433</td>\n",
       "      <td>39.831755</td>\n",
       "      <td>0.000025</td>\n",
       "      <td>978.764775</td>\n",
       "    </tr>\n",
       "  </tbody>\n",
       "</table>\n",
       "</div>"
      ],
      "text/plain": [
       "                      mean        std       min         max\n",
       "city                                                       \n",
       "Москва           10.881092  36.851683  0.000018  857.209373\n",
       "Санкт-Петербург  11.264433  39.831755  0.000025  978.764775"
      ]
     },
     "execution_count": 10,
     "metadata": {},
     "output_type": "execute_result"
    }
   ],
   "source": [
    "df.groupby('city')['hours'].agg(['mean', 'std', 'min', 'max'])"
   ]
  },
  {
   "cell_type": "markdown",
   "id": "2f5d26ab",
   "metadata": {},
   "source": [
    "<div class=\"alert alert-info\"> <b> Комментарий студента v1:</b>  Я остановилась на использовании теста Стьюдента, но меня смущает отсутствие нормального распределения. Что делать в таких случаях? </div>    "
   ]
  },
  {
   "cell_type": "markdown",
   "id": "0f098e68",
   "metadata": {},
   "source": [
    "<div class=\"alert alert-block alert-warning\">📝\n",
    "    \n",
    "\n",
    "__Комментарий от ревьюера №1__\n",
    "\n",
    "Если распределение не нормальное, рекомендую использовать U-test"
   ]
  },
  {
   "cell_type": "markdown",
   "id": "d038e470",
   "metadata": {},
   "source": [
    "<div class=\"alert alert-info\"> <b> Комментарий студента v2:</b>  Понятно, думала об этом, но в задании было сказано \"Выбранный тип t-теста и уровень статистической значимости.\" - поэтому выбирала между 2 т-тестами </div> "
   ]
  },
  {
   "cell_type": "code",
   "execution_count": 11,
   "id": "c0052345",
   "metadata": {},
   "outputs": [
    {
     "name": "stdout",
     "output_type": "stream",
     "text": [
      "Уровень статистической значимости: 0.05\n",
      "p-значение по t-test Стьюдента: 0.338193679651558\n",
      "Не получилось отвергнуть нулевую гипотезу, пользователи из Москвы более активно используют приложение.\n"
     ]
    }
   ],
   "source": [
    "# Перейдем к статистической проверке гипотезы с использоваинием t-теста Стьюдента\n",
    "\n",
    "spb_group = df[df['city']=='Санкт-Петербург']['hours'] \n",
    "msk_group = df[df['city']=='Москва']['hours']\n",
    "\n",
    "alpha = 0.05 \n",
    "\n",
    "results = st.ttest_ind(\n",
    "    spb_group, \n",
    "    msk_group,\n",
    "    alternative='greater')\n",
    "\n",
    "print('Уровень статистической значимости:', alpha)\n",
    "print('p-значение по t-test Стьюдента:', results.pvalue)\n",
    "\n",
    "if results.pvalue < alpha:\n",
    "    print('Отвергаем нулевую гипотезу')\n",
    "else:\n",
    "    print('Не получилось отвергнуть нулевую гипотезу, пользователи из Москвы более активно используют приложение.')"
   ]
  },
  {
   "cell_type": "markdown",
   "id": "6953e84c",
   "metadata": {
    "id": "6953e84c"
   },
   "source": [
    "##  Аналитическая записка"
   ]
  },
  {
   "cell_type": "markdown",
   "id": "be6b1ba8",
   "metadata": {},
   "source": [
    "Для проведения статистического анализа по сформулированной гипотезе (пользователи из Санкт-Петербурга проводят в среднем больше времени за чтением и прослушиванием книг в приложении, чем пользователи из Москвы) был выбран  **t-тест Стьюдента**, который подходит для проверки двух выборок у которых среднее значение выборки примерно равное, уровень статистической значимости был выбран равным **0.05** поскольку представлено достаточно небольшое количество данных.\n",
    "\n",
    "В результате проведенного теста, уровень p-value получился равен **0.338193679651558**, что значительно выше уровня статистической значимости и соответственно это не позволяет нам отбросить нулевую гипотезу. \n",
    "\n",
    "Интерпретация результата: пользователи из Санкт-Петербурга не проводят в среднем больше времени за чтением и прослушиванием книг в приложении, чем пользователи из Москвы. \n",
    "\n",
    "Возможные причины: недостаточность данных о пользователях из Санкт-Петербурга (выборка по Санкт-Петербургу была значительно меньше, чем по Москве), значительные выбросы в данных о пользователях из Москвы."
   ]
  },
  {
   "cell_type": "markdown",
   "id": "476b5332",
   "metadata": {},
   "source": [
    "<div class=\"alert alert-block alert-success\">✔️\n",
    "    \n",
    "\n",
    "__Комментарий от ревьюера №1__\n",
    "\n",
    "Верная интерпретация полученных данных"
   ]
  },
  {
   "cell_type": "markdown",
   "id": "hc1d6jVISegz",
   "metadata": {
    "id": "hc1d6jVISegz"
   },
   "source": [
    "----"
   ]
  },
  {
   "cell_type": "markdown",
   "id": "NqOUIYhbrIfC",
   "metadata": {
    "id": "NqOUIYhbrIfC"
   },
   "source": [
    "# Часть 2. Анализ результатов A/B-тестирования"
   ]
  },
  {
   "cell_type": "markdown",
   "id": "UNXAAyF5r9Rk",
   "metadata": {
    "id": "UNXAAyF5r9Rk"
   },
   "source": [
    "## 1. Опишите цели исследования.\n"
   ]
  },
  {
   "cell_type": "markdown",
   "id": "kHx-51yES8bd",
   "metadata": {
    "id": "kHx-51yES8bd"
   },
   "source": [
    "Клиент - представители интернет-магазина BitMotion Kit, в котором продаются геймифицированные товары для тех, кто ведёт здоровый образ жизни. У него есть своя целевая аудитория, даже появились хиты продаж: эспандер со счётчиком и напоминанием, так и подстольный велотренажёр с Bluetooth. В будущем компания хочет расширить ассортимент товаров. Но перед этим нужно решить одну проблему. Интерфейс онлайн-магазина слишком сложен для пользователей — об этом говорят отзывы. Чтобы привлечь новых клиентов и увеличить число продаж, владельцы магазина разработали новую версию сайта и протестировали его на части пользователей. По задумке, это решение доказуемо повысит количество пользователей, которые совершат покупку.\n",
    "\n",
    "Цель исследования: проверить, повысилилось ли количество пользователей после изменения версии сайта путем оценки результатов A/B-теста. "
   ]
  },
  {
   "cell_type": "markdown",
   "id": "_CZryx2OsH-s",
   "metadata": {
    "id": "_CZryx2OsH-s"
   },
   "source": [
    "## 2. Загрузим данные, оценим их целостность.\n"
   ]
  },
  {
   "cell_type": "code",
   "execution_count": 12,
   "id": "DjFcJbeGsTIg",
   "metadata": {
    "id": "DjFcJbeGsTIg"
   },
   "outputs": [],
   "source": [
    "participants = pd.read_csv('https://code.s3.yandex.net/datasets/ab_test_participants.csv')\n",
    "events = pd.read_csv('https://code.s3.yandex.net/datasets/ab_test_events.zip',\n",
    "                     parse_dates=['event_dt'], low_memory=False)"
   ]
  },
  {
   "cell_type": "markdown",
   "id": "e4fc18b6",
   "metadata": {},
   "source": [
    "<div class=\"alert alert-block alert-success\">✔️\n",
    "    \n",
    "\n",
    "__Комментарий от ревьюера №1__ Молодец, что используешь `low_memory=False` для корректной загрузки файлов."
   ]
  },
  {
   "cell_type": "markdown",
   "id": "CnzA-efasUrk",
   "metadata": {
    "id": "CnzA-efasUrk"
   },
   "source": [
    "## 3. По таблице `ab_test_participants` оценим корректность проведения теста:\n",
    "\n",
    "   3\\.1 Выделим пользователей, участвующих в тесте, и проверим:\n",
    "\n",
    "   - соответствие требованиям технического задания,\n",
    "\n",
    "   - равномерность распределения пользователей по группам теста,\n",
    "\n",
    "   - отсутствие пересечений с конкурирующим тестом (нет пользователей, участвующих одновременно в двух тестовых группах)."
   ]
  },
  {
   "cell_type": "code",
   "execution_count": 13,
   "id": "aNa3zHrKslEN",
   "metadata": {
    "id": "aNa3zHrKslEN"
   },
   "outputs": [
    {
     "data": {
      "text/html": [
       "<div>\n",
       "<style scoped>\n",
       "    .dataframe tbody tr th:only-of-type {\n",
       "        vertical-align: middle;\n",
       "    }\n",
       "\n",
       "    .dataframe tbody tr th {\n",
       "        vertical-align: top;\n",
       "    }\n",
       "\n",
       "    .dataframe thead th {\n",
       "        text-align: right;\n",
       "    }\n",
       "</style>\n",
       "<table border=\"1\" class=\"dataframe\">\n",
       "  <thead>\n",
       "    <tr style=\"text-align: right;\">\n",
       "      <th></th>\n",
       "      <th>user_id</th>\n",
       "      <th>group</th>\n",
       "      <th>ab_test</th>\n",
       "      <th>device</th>\n",
       "    </tr>\n",
       "  </thead>\n",
       "  <tbody>\n",
       "    <tr>\n",
       "      <th>0</th>\n",
       "      <td>0002CE61FF2C4011</td>\n",
       "      <td>B</td>\n",
       "      <td>interface_eu_test</td>\n",
       "      <td>Mac</td>\n",
       "    </tr>\n",
       "    <tr>\n",
       "      <th>1</th>\n",
       "      <td>001064FEAAB631A1</td>\n",
       "      <td>B</td>\n",
       "      <td>recommender_system_test</td>\n",
       "      <td>Android</td>\n",
       "    </tr>\n",
       "    <tr>\n",
       "      <th>2</th>\n",
       "      <td>001064FEAAB631A1</td>\n",
       "      <td>A</td>\n",
       "      <td>interface_eu_test</td>\n",
       "      <td>Android</td>\n",
       "    </tr>\n",
       "    <tr>\n",
       "      <th>3</th>\n",
       "      <td>0010A1C096941592</td>\n",
       "      <td>A</td>\n",
       "      <td>recommender_system_test</td>\n",
       "      <td>Android</td>\n",
       "    </tr>\n",
       "    <tr>\n",
       "      <th>4</th>\n",
       "      <td>001E72F50D1C48FA</td>\n",
       "      <td>A</td>\n",
       "      <td>interface_eu_test</td>\n",
       "      <td>Mac</td>\n",
       "    </tr>\n",
       "  </tbody>\n",
       "</table>\n",
       "</div>"
      ],
      "text/plain": [
       "            user_id group                  ab_test   device\n",
       "0  0002CE61FF2C4011     B        interface_eu_test      Mac\n",
       "1  001064FEAAB631A1     B  recommender_system_test  Android\n",
       "2  001064FEAAB631A1     A        interface_eu_test  Android\n",
       "3  0010A1C096941592     A  recommender_system_test  Android\n",
       "4  001E72F50D1C48FA     A        interface_eu_test      Mac"
      ]
     },
     "execution_count": 13,
     "metadata": {},
     "output_type": "execute_result"
    }
   ],
   "source": [
    "participants.head()"
   ]
  },
  {
   "cell_type": "code",
   "execution_count": 14,
   "id": "68a31cf0",
   "metadata": {},
   "outputs": [
    {
     "data": {
      "image/png": "[encoded data removed]",
      "text/plain": [
       "<Figure size 432x288 with 1 Axes>"
      ]
     },
     "metadata": {},
     "output_type": "display_data"
    }
   ],
   "source": [
    "#Посмотрим наличие пересечений пользователей между двумя тестами\n",
    "\n",
    "group_test_eu = set(participants[participants['ab_test']=='interface_eu_test']['user_id'])\n",
    "group_test_rs = set(participants[participants['ab_test']=='recommender_system_test']['user_id'])\n",
    "\n",
    "venn2([group_test_eu, group_test_rs], set_labels=('interface_eu_test', 'recommender_system_test'))\n",
    "\n",
    "plt.title('Пересечение уникальных пользователей между двумя тестами', fontsize=14, fontweight='bold')\n",
    "plt.show()  "
   ]
  },
  {
   "cell_type": "code",
   "execution_count": 15,
   "id": "452b4c45",
   "metadata": {},
   "outputs": [
    {
     "name": "stdout",
     "output_type": "stream",
     "text": [
      "Количество неявных дубликатов: 887\n",
      "Количество неявных дубликатов: 0\n"
     ]
    }
   ],
   "source": [
    "# Найдем пользователей, которые участвуют в обоих тестах и удалим\n",
    "\n",
    "count_duplicates = participants[['user_id']].duplicated().sum() \n",
    "print(f'Количество неявных дубликатов: {count_duplicates}')\n",
    "\n",
    "participants = participants.drop_duplicates(subset=['user_id'])\n",
    "\n",
    "count_duplicates_2 = participants[['user_id']].duplicated().sum() \n",
    "print(f'Количество неявных дубликатов: {count_duplicates_2}')"
   ]
  },
  {
   "cell_type": "code",
   "execution_count": 16,
   "id": "6222cca8",
   "metadata": {},
   "outputs": [
    {
     "data": {
      "image/png": "[encoded data removed]",
      "text/plain": [
       "<Figure size 576x432 with 1 Axes>"
      ]
     },
     "metadata": {
      "needs_background": "light"
     },
     "output_type": "display_data"
    }
   ],
   "source": [
    "#Поскольку по заданию мы должны использовать тест: interface_eu_test, то для дальнейшей проверки отберем пользователей только по\n",
    "# этому тесту\n",
    "\n",
    "participants_abtest = participants[participants['ab_test']=='interface_eu_test']\n",
    "\n",
    "group_info = participants_abtest.groupby('group')['user_id'].nunique()\n",
    "\n",
    "plt.figure(figsize=(8, 6))\n",
    "plt.bar(group_info.index, group_info.values, color ='orange')\n",
    "\n",
    "for i, v in enumerate(group_info.values):\n",
    "    plt.text(i, v, str(v), ha='center', va='bottom')\n",
    "\n",
    "plt.title('Количество пользователей в тестовых группах', fontsize=14, fontweight='bold')\n",
    "plt.xlabel('Тестовая группа')\n",
    "plt.ylabel('Количество пользователей')\n",
    "plt.grid(axis='x', linestyle='--')\n",
    "plt.grid(linestyle='--', alpha=0.7)\n",
    "plt.show()"
   ]
  },
  {
   "cell_type": "markdown",
   "id": "264d2859",
   "metadata": {},
   "source": [
    "<div class=\"alert alert-block alert-success\">✔️\n",
    "    \n",
    "\n",
    "__Комментарий от ревьюера №1__ Верно, датасет нужно отфильтровать по нужному тесту"
   ]
  },
  {
   "cell_type": "code",
   "execution_count": 17,
   "id": "a12f1b76",
   "metadata": {},
   "outputs": [
    {
     "data": {
      "image/png": "[encoded data removed]",
      "text/plain": [
       "<Figure size 432x288 with 1 Axes>"
      ]
     },
     "metadata": {},
     "output_type": "display_data"
    }
   ],
   "source": [
    "group_a_id = set(participants_abtest[participants_abtest['group']=='A']['user_id'])\n",
    "group_b_id = set(participants_abtest[participants_abtest['group']=='B']['user_id'])\n",
    "\n",
    "venn2([group_a_id, group_b_id], set_labels=('Группа А', 'Группа В'))\n",
    "\n",
    "plt.title('Пересечение уникальных пользователей в тестовых группах', fontsize=14, fontweight='bold')\n",
    "plt.show()  "
   ]
  },
  {
   "cell_type": "code",
   "execution_count": 18,
   "id": "386d353c",
   "metadata": {},
   "outputs": [
    {
     "data": {
      "image/png": "[encoded data removed]",
      "text/plain": [
       "<Figure size 1152x576 with 2 Axes>"
      ]
     },
     "metadata": {},
     "output_type": "display_data"
    }
   ],
   "source": [
    "# Проверим распределение пользователей по устройствам\n",
    "\n",
    "group_a_device = participants_abtest[participants_abtest['group']=='A'].groupby('device')['user_id'].nunique()\n",
    "group_b_device = participants_abtest[participants_abtest['group']=='B'].groupby('device')['user_id'].nunique()\n",
    "\n",
    "fig, (ax1, ax2) = plt.subplots(1, 2, figsize=(16, 8))\n",
    "\n",
    "ax1.pie(group_a_device.values, labels=group_a_device.index, autopct='%1.1f%%', startangle=90)\n",
    "ax1.set_title('Распределение устройств пользователей (Группа A)', fontsize=14, fontweight='bold')\n",
    "ax1.axis('equal') \n",
    "\n",
    "ax2.pie(group_b_device.values, labels=group_b_device.index, autopct='%1.1f%%', startangle=90)\n",
    "ax2.set_title('Распределение устройств пользователей (Группа B)', fontsize=14, fontweight='bold')\n",
    "ax2.axis('equal')\n",
    "\n",
    "plt.show()"
   ]
  },
  {
   "cell_type": "code",
   "execution_count": 19,
   "id": "93c87ebb",
   "metadata": {},
   "outputs": [
    {
     "data": {
      "text/html": [
       "<style  type=\"text/css\" >\n",
       "#T_fe272_row0_col0{\n",
       "            background-color:  #b40426;\n",
       "            color:  #f1f1f1;\n",
       "        }#T_fe272_row1_col0{\n",
       "            background-color:  #3d50c3;\n",
       "            color:  #f1f1f1;\n",
       "        }#T_fe272_row2_col0{\n",
       "            background-color:  #c5d6f2;\n",
       "            color:  #000000;\n",
       "        }#T_fe272_row3_col0{\n",
       "            background-color:  #8db0fe;\n",
       "            color:  #000000;\n",
       "        }#T_fe272_row4_col0{\n",
       "            background-color:  #bb1b2c;\n",
       "            color:  #f1f1f1;\n",
       "        }#T_fe272_row5_col0{\n",
       "            background-color:  #3b4cc0;\n",
       "            color:  #f1f1f1;\n",
       "        }#T_fe272_row6_col0{\n",
       "            background-color:  #d1dae9;\n",
       "            color:  #000000;\n",
       "        }#T_fe272_row7_col0{\n",
       "            background-color:  #94b6ff;\n",
       "            color:  #000000;\n",
       "        }</style><table id=\"T_fe272_\" ><thead>    <tr>        <th class=\"blank\" ></th>        <th class=\"blank level0\" ></th>        <th class=\"col_heading level0 col0\" >user_id</th>    </tr>    <tr>        <th class=\"index_name level0\" >group</th>        <th class=\"index_name level1\" >device</th>        <th class=\"blank\" ></th>    </tr></thead><tbody>\n",
       "                <tr>\n",
       "                        <th id=\"T_fe272_level0_row0\" class=\"row_heading level0 row0\" rowspan=\"4\">A</th>\n",
       "                        <th id=\"T_fe272_level1_row0\" class=\"row_heading level1 row0\" >Android</th>\n",
       "                        <td id=\"T_fe272_row0_col0\" class=\"data row0 col0\" >2356</td>\n",
       "            </tr>\n",
       "            <tr>\n",
       "                                <th id=\"T_fe272_level1_row1\" class=\"row_heading level1 row1\" >Mac</th>\n",
       "                        <td id=\"T_fe272_row1_col0\" class=\"data row1 col0\" >542</td>\n",
       "            </tr>\n",
       "            <tr>\n",
       "                                <th id=\"T_fe272_level1_row2\" class=\"row_heading level1 row2\" >PC</th>\n",
       "                        <td id=\"T_fe272_row2_col0\" class=\"data row2 col0\" >1286</td>\n",
       "            </tr>\n",
       "            <tr>\n",
       "                                <th id=\"T_fe272_level1_row3\" class=\"row_heading level1 row3\" >iPhone</th>\n",
       "                        <td id=\"T_fe272_row3_col0\" class=\"data row3 col0\" >990</td>\n",
       "            </tr>\n",
       "            <tr>\n",
       "                        <th id=\"T_fe272_level0_row4\" class=\"row_heading level0 row4\" rowspan=\"4\">B</th>\n",
       "                        <th id=\"T_fe272_level1_row4\" class=\"row_heading level1 row4\" >Android</th>\n",
       "                        <td id=\"T_fe272_row4_col0\" class=\"data row4 col0\" >2320</td>\n",
       "            </tr>\n",
       "            <tr>\n",
       "                                <th id=\"T_fe272_level1_row5\" class=\"row_heading level1 row5\" >Mac</th>\n",
       "                        <td id=\"T_fe272_row5_col0\" class=\"data row5 col0\" >527</td>\n",
       "            </tr>\n",
       "            <tr>\n",
       "                                <th id=\"T_fe272_level1_row6\" class=\"row_heading level1 row6\" >PC</th>\n",
       "                        <td id=\"T_fe272_row6_col0\" class=\"data row6 col0\" >1356</td>\n",
       "            </tr>\n",
       "            <tr>\n",
       "                                <th id=\"T_fe272_level1_row7\" class=\"row_heading level1 row7\" >iPhone</th>\n",
       "                        <td id=\"T_fe272_row7_col0\" class=\"data row7 col0\" >1026</td>\n",
       "            </tr>\n",
       "    </tbody></table>"
      ],
      "text/plain": [
       "<pandas.io.formats.style.Styler at 0x7f7a04d528e0>"
      ]
     },
     "metadata": {},
     "output_type": "display_data"
    }
   ],
   "source": [
    "pivot_table = participants_abtest.pivot_table(index=['group','device'],values=['user_id'],\n",
    "                                                aggfunc={'user_id':'count'}).style.background_gradient(cmap='coolwarm')\n",
    "display(pivot_table)"
   ]
  },
  {
   "cell_type": "markdown",
   "id": "071a1389",
   "metadata": {},
   "source": [
    "Выполнена проверка данных о пользователях в таблице ab_test_participants:\n",
    " - выявлены и удалены пользователи участвующие в конкурирующем тесте,\n",
    " - выделены пользователи подходящие только под запланированный ab-тест,\n",
    " - проверено распределение пользователей по устройствам,\n",
    " - проверено отсутствие пересечение по тестовым группам."
   ]
  },
  {
   "cell_type": "markdown",
   "id": "61b6dc46",
   "metadata": {},
   "source": [
    "<div class=\"alert alert-block alert-success\">✔️\n",
    "    \n",
    "\n",
    "Тут согласен с действиями"
   ]
  },
  {
   "cell_type": "markdown",
   "id": "GjulgSrlsqUU",
   "metadata": {
    "id": "GjulgSrlsqUU"
   },
   "source": [
    "3\\.2 Проанализируем данные о пользовательской активности по таблице `ab_test_events`:\n",
    "\n",
    "- оставим только события, связанные с участвующими в изучаемом тесте пользователями;"
   ]
  },
  {
   "cell_type": "code",
   "execution_count": 20,
   "id": "QMt0Ybo_swDK",
   "metadata": {
    "id": "QMt0Ybo_swDK"
   },
   "outputs": [
    {
     "data": {
      "text/html": [
       "<div>\n",
       "<style scoped>\n",
       "    .dataframe tbody tr th:only-of-type {\n",
       "        vertical-align: middle;\n",
       "    }\n",
       "\n",
       "    .dataframe tbody tr th {\n",
       "        vertical-align: top;\n",
       "    }\n",
       "\n",
       "    .dataframe thead th {\n",
       "        text-align: right;\n",
       "    }\n",
       "</style>\n",
       "<table border=\"1\" class=\"dataframe\">\n",
       "  <thead>\n",
       "    <tr style=\"text-align: right;\">\n",
       "      <th></th>\n",
       "      <th>user_id</th>\n",
       "      <th>event_dt</th>\n",
       "      <th>event_name</th>\n",
       "      <th>details</th>\n",
       "    </tr>\n",
       "  </thead>\n",
       "  <tbody>\n",
       "    <tr>\n",
       "      <th>0</th>\n",
       "      <td>GLOBAL</td>\n",
       "      <td>2020-12-01 00:00:00</td>\n",
       "      <td>End of Black Friday Ads Campaign</td>\n",
       "      <td>ZONE_CODE15</td>\n",
       "    </tr>\n",
       "    <tr>\n",
       "      <th>1</th>\n",
       "      <td>CCBE9E7E99F94A08</td>\n",
       "      <td>2020-12-01 00:00:11</td>\n",
       "      <td>registration</td>\n",
       "      <td>0.0</td>\n",
       "    </tr>\n",
       "    <tr>\n",
       "      <th>2</th>\n",
       "      <td>GLOBAL</td>\n",
       "      <td>2020-12-01 00:00:25</td>\n",
       "      <td>product_page</td>\n",
       "      <td>NaN</td>\n",
       "    </tr>\n",
       "    <tr>\n",
       "      <th>3</th>\n",
       "      <td>CCBE9E7E99F94A08</td>\n",
       "      <td>2020-12-01 00:00:33</td>\n",
       "      <td>login</td>\n",
       "      <td>NaN</td>\n",
       "    </tr>\n",
       "    <tr>\n",
       "      <th>4</th>\n",
       "      <td>CCBE9E7E99F94A08</td>\n",
       "      <td>2020-12-01 00:00:52</td>\n",
       "      <td>product_page</td>\n",
       "      <td>NaN</td>\n",
       "    </tr>\n",
       "  </tbody>\n",
       "</table>\n",
       "</div>"
      ],
      "text/plain": [
       "            user_id            event_dt                        event_name  \\\n",
       "0            GLOBAL 2020-12-01 00:00:00  End of Black Friday Ads Campaign   \n",
       "1  CCBE9E7E99F94A08 2020-12-01 00:00:11                      registration   \n",
       "2            GLOBAL 2020-12-01 00:00:25                      product_page   \n",
       "3  CCBE9E7E99F94A08 2020-12-01 00:00:33                             login   \n",
       "4  CCBE9E7E99F94A08 2020-12-01 00:00:52                      product_page   \n",
       "\n",
       "       details  \n",
       "0  ZONE_CODE15  \n",
       "1          0.0  \n",
       "2          NaN  \n",
       "3          NaN  \n",
       "4          NaN  "
      ]
     },
     "execution_count": 20,
     "metadata": {},
     "output_type": "execute_result"
    }
   ],
   "source": [
    "events.head()"
   ]
  },
  {
   "cell_type": "code",
   "execution_count": 21,
   "id": "ed8ebcb3",
   "metadata": {},
   "outputs": [
    {
     "data": {
      "text/html": [
       "<div>\n",
       "<style scoped>\n",
       "    .dataframe tbody tr th:only-of-type {\n",
       "        vertical-align: middle;\n",
       "    }\n",
       "\n",
       "    .dataframe tbody tr th {\n",
       "        vertical-align: top;\n",
       "    }\n",
       "\n",
       "    .dataframe thead th {\n",
       "        text-align: right;\n",
       "    }\n",
       "</style>\n",
       "<table border=\"1\" class=\"dataframe\">\n",
       "  <thead>\n",
       "    <tr style=\"text-align: right;\">\n",
       "      <th></th>\n",
       "      <th>user_id</th>\n",
       "      <th>group</th>\n",
       "      <th>ab_test</th>\n",
       "      <th>device</th>\n",
       "      <th>event_dt</th>\n",
       "      <th>event_name</th>\n",
       "      <th>details</th>\n",
       "    </tr>\n",
       "  </thead>\n",
       "  <tbody>\n",
       "    <tr>\n",
       "      <th>0</th>\n",
       "      <td>0002CE61FF2C4011</td>\n",
       "      <td>B</td>\n",
       "      <td>interface_eu_test</td>\n",
       "      <td>Mac</td>\n",
       "      <td>2020-12-07 04:37:31</td>\n",
       "      <td>registration</td>\n",
       "      <td>-2.38</td>\n",
       "    </tr>\n",
       "    <tr>\n",
       "      <th>1</th>\n",
       "      <td>0002CE61FF2C4011</td>\n",
       "      <td>B</td>\n",
       "      <td>interface_eu_test</td>\n",
       "      <td>Mac</td>\n",
       "      <td>2020-12-07 04:37:49</td>\n",
       "      <td>login</td>\n",
       "      <td>NaN</td>\n",
       "    </tr>\n",
       "    <tr>\n",
       "      <th>2</th>\n",
       "      <td>0002CE61FF2C4011</td>\n",
       "      <td>B</td>\n",
       "      <td>interface_eu_test</td>\n",
       "      <td>Mac</td>\n",
       "      <td>2020-12-07 04:37:57</td>\n",
       "      <td>login</td>\n",
       "      <td>NaN</td>\n",
       "    </tr>\n",
       "    <tr>\n",
       "      <th>3</th>\n",
       "      <td>0002CE61FF2C4011</td>\n",
       "      <td>B</td>\n",
       "      <td>interface_eu_test</td>\n",
       "      <td>Mac</td>\n",
       "      <td>2020-12-07 04:38:54</td>\n",
       "      <td>login</td>\n",
       "      <td>NaN</td>\n",
       "    </tr>\n",
       "    <tr>\n",
       "      <th>4</th>\n",
       "      <td>0002CE61FF2C4011</td>\n",
       "      <td>B</td>\n",
       "      <td>interface_eu_test</td>\n",
       "      <td>Mac</td>\n",
       "      <td>2020-12-08 22:15:35</td>\n",
       "      <td>login</td>\n",
       "      <td>NaN</td>\n",
       "    </tr>\n",
       "  </tbody>\n",
       "</table>\n",
       "</div>"
      ],
      "text/plain": [
       "            user_id group            ab_test device            event_dt  \\\n",
       "0  0002CE61FF2C4011     B  interface_eu_test    Mac 2020-12-07 04:37:31   \n",
       "1  0002CE61FF2C4011     B  interface_eu_test    Mac 2020-12-07 04:37:49   \n",
       "2  0002CE61FF2C4011     B  interface_eu_test    Mac 2020-12-07 04:37:57   \n",
       "3  0002CE61FF2C4011     B  interface_eu_test    Mac 2020-12-07 04:38:54   \n",
       "4  0002CE61FF2C4011     B  interface_eu_test    Mac 2020-12-08 22:15:35   \n",
       "\n",
       "     event_name details  \n",
       "0  registration   -2.38  \n",
       "1         login     NaN  \n",
       "2         login     NaN  \n",
       "3         login     NaN  \n",
       "4         login     NaN  "
      ]
     },
     "execution_count": 21,
     "metadata": {},
     "output_type": "execute_result"
    }
   ],
   "source": [
    "participants_events = pd.merge(participants_abtest, events, on ='user_id', how='left')\n",
    "\n",
    "participants_events.head()"
   ]
  },
  {
   "cell_type": "code",
   "execution_count": 22,
   "id": "84b294fd",
   "metadata": {},
   "outputs": [
    {
     "name": "stdout",
     "output_type": "stream",
     "text": [
      "<class 'pandas.core.frame.DataFrame'>\n",
      "Int64Index: 76658 entries, 0 to 76657\n",
      "Data columns (total 7 columns):\n",
      " #   Column      Non-Null Count  Dtype         \n",
      "---  ------      --------------  -----         \n",
      " 0   user_id     76658 non-null  object        \n",
      " 1   group       76658 non-null  object        \n",
      " 2   ab_test     76658 non-null  object        \n",
      " 3   device      76658 non-null  object        \n",
      " 4   event_dt    76658 non-null  datetime64[ns]\n",
      " 5   event_name  76658 non-null  object        \n",
      " 6   details     20217 non-null  object        \n",
      "dtypes: datetime64[ns](1), object(6)\n",
      "memory usage: 4.7+ MB\n"
     ]
    }
   ],
   "source": [
    "participants_events.info()"
   ]
  },
  {
   "cell_type": "code",
   "execution_count": 23,
   "id": "0e491a29",
   "metadata": {},
   "outputs": [
    {
     "name": "stdout",
     "output_type": "stream",
     "text": [
      "Количество явных дубликатов: 5928, доля: 7.7%\n"
     ]
    }
   ],
   "source": [
    "# Проверим наличие явных дубликатов\n",
    "\n",
    "count_duplicates = participants_events.duplicated().sum() \n",
    "count_original_data_rows = participants_events.shape[0]\n",
    "print(f'Количество явных дубликатов: {count_duplicates}, доля: {round(count_duplicates/count_original_data_rows*100,1)}%')"
   ]
  },
  {
   "cell_type": "code",
   "execution_count": 24,
   "id": "73409a27",
   "metadata": {},
   "outputs": [
    {
     "name": "stdout",
     "output_type": "stream",
     "text": [
      "Количество неявных дубликатов (повторяющиеся айди): 60327, доля: 78.7%\n",
      "Количество неявных дубликатов (айди, дата события и название события): 510, доля: 0.7%\n"
     ]
    }
   ],
   "source": [
    "# Удалим явные дубликаты и проверим наличие неявных\n",
    "\n",
    "participants_events = participants_events.drop_duplicates()\n",
    "\n",
    "count_duplicates_2 = participants_events[['user_id']].duplicated().sum() \n",
    "print(f'Количество неявных дубликатов (повторяющиеся айди): {count_duplicates_2}, \\\n",
    "доля: {round(count_duplicates_2/count_original_data_rows*100,1)}%')\n",
    "\n",
    "count_duplicates_3 = participants_events[['user_id', 'event_dt', 'event_name']].duplicated().sum() \n",
    "print(f'Количество неявных дубликатов (айди, дата события и название события): {count_duplicates_3}, \\\n",
    "доля: {round(count_duplicates_3/count_original_data_rows*100,1)}%')"
   ]
  },
  {
   "cell_type": "markdown",
   "id": "48e1b1df",
   "metadata": {},
   "source": [
    "Поскольку выявленно 79% повторяющихся айди и скорее всего это связано с тем, что некоторые пользователи меняли статус (`'event_name'`), то эти данные менять или удалять не будем. Неявные дубликаты с повторением айди, даты и названия события можно удалить, т.к. они составляют малую долю от общих данных(0.7%) и могли возникнуть в результате ошибки."
   ]
  },
  {
   "cell_type": "markdown",
   "id": "fBZ4DC2xswZJ",
   "metadata": {
    "id": "fBZ4DC2xswZJ"
   },
   "source": [
    "- определим горизонт анализа: рассчитаем время (лайфтайм) совершения события пользователем после регистрации и оставим только те события, которые были выполнены в течение первых семи дней с момента регистрации;"
   ]
  },
  {
   "cell_type": "code",
   "execution_count": 25,
   "id": "sES4-dKts0Yb",
   "metadata": {
    "id": "sES4-dKts0Yb"
   },
   "outputs": [
    {
     "data": {
      "text/plain": [
       "login           25118\n",
       "product_page    16972\n",
       "registration    10403\n",
       "purchase         9210\n",
       "product_cart     9027\n",
       "Name: event_name, dtype: int64"
      ]
     },
     "execution_count": 25,
     "metadata": {},
     "output_type": "execute_result"
    }
   ],
   "source": [
    "participants_events['event_name'].value_counts()"
   ]
  },
  {
   "cell_type": "code",
   "execution_count": 26,
   "id": "90ec424f",
   "metadata": {},
   "outputs": [
    {
     "data": {
      "text/html": [
       "<div>\n",
       "<style scoped>\n",
       "    .dataframe tbody tr th:only-of-type {\n",
       "        vertical-align: middle;\n",
       "    }\n",
       "\n",
       "    .dataframe tbody tr th {\n",
       "        vertical-align: top;\n",
       "    }\n",
       "\n",
       "    .dataframe thead th {\n",
       "        text-align: right;\n",
       "    }\n",
       "</style>\n",
       "<table border=\"1\" class=\"dataframe\">\n",
       "  <thead>\n",
       "    <tr style=\"text-align: right;\">\n",
       "      <th></th>\n",
       "      <th>user_id</th>\n",
       "      <th>group</th>\n",
       "      <th>ab_test</th>\n",
       "      <th>device</th>\n",
       "      <th>event_dt</th>\n",
       "      <th>event_name</th>\n",
       "      <th>details</th>\n",
       "    </tr>\n",
       "  </thead>\n",
       "  <tbody>\n",
       "    <tr>\n",
       "      <th>0</th>\n",
       "      <td>0002CE61FF2C4011</td>\n",
       "      <td>B</td>\n",
       "      <td>interface_eu_test</td>\n",
       "      <td>Mac</td>\n",
       "      <td>2020-12-07 04:37:31</td>\n",
       "      <td>registration</td>\n",
       "      <td>-2.38</td>\n",
       "    </tr>\n",
       "    <tr>\n",
       "      <th>1</th>\n",
       "      <td>0002CE61FF2C4011</td>\n",
       "      <td>B</td>\n",
       "      <td>interface_eu_test</td>\n",
       "      <td>Mac</td>\n",
       "      <td>2020-12-07 04:37:49</td>\n",
       "      <td>login</td>\n",
       "      <td>NaN</td>\n",
       "    </tr>\n",
       "    <tr>\n",
       "      <th>2</th>\n",
       "      <td>0002CE61FF2C4011</td>\n",
       "      <td>B</td>\n",
       "      <td>interface_eu_test</td>\n",
       "      <td>Mac</td>\n",
       "      <td>2020-12-07 04:37:57</td>\n",
       "      <td>login</td>\n",
       "      <td>NaN</td>\n",
       "    </tr>\n",
       "    <tr>\n",
       "      <th>3</th>\n",
       "      <td>0002CE61FF2C4011</td>\n",
       "      <td>B</td>\n",
       "      <td>interface_eu_test</td>\n",
       "      <td>Mac</td>\n",
       "      <td>2020-12-07 04:38:54</td>\n",
       "      <td>login</td>\n",
       "      <td>NaN</td>\n",
       "    </tr>\n",
       "    <tr>\n",
       "      <th>4</th>\n",
       "      <td>0002CE61FF2C4011</td>\n",
       "      <td>B</td>\n",
       "      <td>interface_eu_test</td>\n",
       "      <td>Mac</td>\n",
       "      <td>2020-12-08 22:15:35</td>\n",
       "      <td>login</td>\n",
       "      <td>NaN</td>\n",
       "    </tr>\n",
       "    <tr>\n",
       "      <th>5</th>\n",
       "      <td>0002CE61FF2C4011</td>\n",
       "      <td>B</td>\n",
       "      <td>interface_eu_test</td>\n",
       "      <td>Mac</td>\n",
       "      <td>2020-12-08 22:15:36</td>\n",
       "      <td>product_page</td>\n",
       "      <td>NaN</td>\n",
       "    </tr>\n",
       "    <tr>\n",
       "      <th>6</th>\n",
       "      <td>0002CE61FF2C4011</td>\n",
       "      <td>B</td>\n",
       "      <td>interface_eu_test</td>\n",
       "      <td>Mac</td>\n",
       "      <td>2020-12-08 22:15:37</td>\n",
       "      <td>product_page</td>\n",
       "      <td>NaN</td>\n",
       "    </tr>\n",
       "    <tr>\n",
       "      <th>7</th>\n",
       "      <td>0002CE61FF2C4011</td>\n",
       "      <td>B</td>\n",
       "      <td>interface_eu_test</td>\n",
       "      <td>Mac</td>\n",
       "      <td>2020-12-10 15:23:08</td>\n",
       "      <td>product_page</td>\n",
       "      <td>NaN</td>\n",
       "    </tr>\n",
       "    <tr>\n",
       "      <th>8</th>\n",
       "      <td>0002CE61FF2C4011</td>\n",
       "      <td>B</td>\n",
       "      <td>interface_eu_test</td>\n",
       "      <td>Mac</td>\n",
       "      <td>2020-12-10 15:23:09</td>\n",
       "      <td>product_cart</td>\n",
       "      <td>NaN</td>\n",
       "    </tr>\n",
       "    <tr>\n",
       "      <th>9</th>\n",
       "      <td>0002CE61FF2C4011</td>\n",
       "      <td>B</td>\n",
       "      <td>interface_eu_test</td>\n",
       "      <td>Mac</td>\n",
       "      <td>2020-12-15 12:50:07</td>\n",
       "      <td>product_cart</td>\n",
       "      <td>NaN</td>\n",
       "    </tr>\n",
       "  </tbody>\n",
       "</table>\n",
       "</div>"
      ],
      "text/plain": [
       "            user_id group            ab_test device            event_dt  \\\n",
       "0  0002CE61FF2C4011     B  interface_eu_test    Mac 2020-12-07 04:37:31   \n",
       "1  0002CE61FF2C4011     B  interface_eu_test    Mac 2020-12-07 04:37:49   \n",
       "2  0002CE61FF2C4011     B  interface_eu_test    Mac 2020-12-07 04:37:57   \n",
       "3  0002CE61FF2C4011     B  interface_eu_test    Mac 2020-12-07 04:38:54   \n",
       "4  0002CE61FF2C4011     B  interface_eu_test    Mac 2020-12-08 22:15:35   \n",
       "5  0002CE61FF2C4011     B  interface_eu_test    Mac 2020-12-08 22:15:36   \n",
       "6  0002CE61FF2C4011     B  interface_eu_test    Mac 2020-12-08 22:15:37   \n",
       "7  0002CE61FF2C4011     B  interface_eu_test    Mac 2020-12-10 15:23:08   \n",
       "8  0002CE61FF2C4011     B  interface_eu_test    Mac 2020-12-10 15:23:09   \n",
       "9  0002CE61FF2C4011     B  interface_eu_test    Mac 2020-12-15 12:50:07   \n",
       "\n",
       "     event_name details  \n",
       "0  registration   -2.38  \n",
       "1         login     NaN  \n",
       "2         login     NaN  \n",
       "3         login     NaN  \n",
       "4         login     NaN  \n",
       "5  product_page     NaN  \n",
       "6  product_page     NaN  \n",
       "7  product_page     NaN  \n",
       "8  product_cart     NaN  \n",
       "9  product_cart     NaN  "
      ]
     },
     "execution_count": 26,
     "metadata": {},
     "output_type": "execute_result"
    }
   ],
   "source": [
    "participants_events.head(10)"
   ]
  },
  {
   "cell_type": "code",
   "execution_count": 27,
   "id": "c189ed14",
   "metadata": {},
   "outputs": [
    {
     "data": {
      "text/html": [
       "<div>\n",
       "<style scoped>\n",
       "    .dataframe tbody tr th:only-of-type {\n",
       "        vertical-align: middle;\n",
       "    }\n",
       "\n",
       "    .dataframe tbody tr th {\n",
       "        vertical-align: top;\n",
       "    }\n",
       "\n",
       "    .dataframe thead th {\n",
       "        text-align: right;\n",
       "    }\n",
       "</style>\n",
       "<table border=\"1\" class=\"dataframe\">\n",
       "  <thead>\n",
       "    <tr style=\"text-align: right;\">\n",
       "      <th></th>\n",
       "      <th>user_id</th>\n",
       "      <th>group</th>\n",
       "      <th>ab_test</th>\n",
       "      <th>device</th>\n",
       "      <th>event_dt</th>\n",
       "      <th>event_name</th>\n",
       "      <th>details</th>\n",
       "      <th>lifetime</th>\n",
       "    </tr>\n",
       "  </thead>\n",
       "  <tbody>\n",
       "    <tr>\n",
       "      <th>0</th>\n",
       "      <td>0002CE61FF2C4011</td>\n",
       "      <td>B</td>\n",
       "      <td>interface_eu_test</td>\n",
       "      <td>Mac</td>\n",
       "      <td>2020-12-07 04:37:31</td>\n",
       "      <td>registration</td>\n",
       "      <td>-2.38</td>\n",
       "      <td>0</td>\n",
       "    </tr>\n",
       "    <tr>\n",
       "      <th>1</th>\n",
       "      <td>0002CE61FF2C4011</td>\n",
       "      <td>B</td>\n",
       "      <td>interface_eu_test</td>\n",
       "      <td>Mac</td>\n",
       "      <td>2020-12-07 04:37:49</td>\n",
       "      <td>login</td>\n",
       "      <td>NaN</td>\n",
       "      <td>0</td>\n",
       "    </tr>\n",
       "    <tr>\n",
       "      <th>2</th>\n",
       "      <td>0002CE61FF2C4011</td>\n",
       "      <td>B</td>\n",
       "      <td>interface_eu_test</td>\n",
       "      <td>Mac</td>\n",
       "      <td>2020-12-07 04:37:57</td>\n",
       "      <td>login</td>\n",
       "      <td>NaN</td>\n",
       "      <td>0</td>\n",
       "    </tr>\n",
       "    <tr>\n",
       "      <th>3</th>\n",
       "      <td>0002CE61FF2C4011</td>\n",
       "      <td>B</td>\n",
       "      <td>interface_eu_test</td>\n",
       "      <td>Mac</td>\n",
       "      <td>2020-12-07 04:38:54</td>\n",
       "      <td>login</td>\n",
       "      <td>NaN</td>\n",
       "      <td>0</td>\n",
       "    </tr>\n",
       "    <tr>\n",
       "      <th>4</th>\n",
       "      <td>0002CE61FF2C4011</td>\n",
       "      <td>B</td>\n",
       "      <td>interface_eu_test</td>\n",
       "      <td>Mac</td>\n",
       "      <td>2020-12-08 22:15:35</td>\n",
       "      <td>login</td>\n",
       "      <td>NaN</td>\n",
       "      <td>1</td>\n",
       "    </tr>\n",
       "    <tr>\n",
       "      <th>5</th>\n",
       "      <td>0002CE61FF2C4011</td>\n",
       "      <td>B</td>\n",
       "      <td>interface_eu_test</td>\n",
       "      <td>Mac</td>\n",
       "      <td>2020-12-08 22:15:36</td>\n",
       "      <td>product_page</td>\n",
       "      <td>NaN</td>\n",
       "      <td>1</td>\n",
       "    </tr>\n",
       "    <tr>\n",
       "      <th>6</th>\n",
       "      <td>0002CE61FF2C4011</td>\n",
       "      <td>B</td>\n",
       "      <td>interface_eu_test</td>\n",
       "      <td>Mac</td>\n",
       "      <td>2020-12-08 22:15:37</td>\n",
       "      <td>product_page</td>\n",
       "      <td>NaN</td>\n",
       "      <td>1</td>\n",
       "    </tr>\n",
       "    <tr>\n",
       "      <th>7</th>\n",
       "      <td>0002CE61FF2C4011</td>\n",
       "      <td>B</td>\n",
       "      <td>interface_eu_test</td>\n",
       "      <td>Mac</td>\n",
       "      <td>2020-12-10 15:23:08</td>\n",
       "      <td>product_page</td>\n",
       "      <td>NaN</td>\n",
       "      <td>3</td>\n",
       "    </tr>\n",
       "    <tr>\n",
       "      <th>8</th>\n",
       "      <td>0002CE61FF2C4011</td>\n",
       "      <td>B</td>\n",
       "      <td>interface_eu_test</td>\n",
       "      <td>Mac</td>\n",
       "      <td>2020-12-10 15:23:09</td>\n",
       "      <td>product_cart</td>\n",
       "      <td>NaN</td>\n",
       "      <td>3</td>\n",
       "    </tr>\n",
       "    <tr>\n",
       "      <th>11</th>\n",
       "      <td>001E72F50D1C48FA</td>\n",
       "      <td>A</td>\n",
       "      <td>interface_eu_test</td>\n",
       "      <td>Mac</td>\n",
       "      <td>2020-12-17 15:44:05</td>\n",
       "      <td>registration</td>\n",
       "      <td>-3.61</td>\n",
       "      <td>0</td>\n",
       "    </tr>\n",
       "  </tbody>\n",
       "</table>\n",
       "</div>"
      ],
      "text/plain": [
       "             user_id group            ab_test device            event_dt  \\\n",
       "0   0002CE61FF2C4011     B  interface_eu_test    Mac 2020-12-07 04:37:31   \n",
       "1   0002CE61FF2C4011     B  interface_eu_test    Mac 2020-12-07 04:37:49   \n",
       "2   0002CE61FF2C4011     B  interface_eu_test    Mac 2020-12-07 04:37:57   \n",
       "3   0002CE61FF2C4011     B  interface_eu_test    Mac 2020-12-07 04:38:54   \n",
       "4   0002CE61FF2C4011     B  interface_eu_test    Mac 2020-12-08 22:15:35   \n",
       "5   0002CE61FF2C4011     B  interface_eu_test    Mac 2020-12-08 22:15:36   \n",
       "6   0002CE61FF2C4011     B  interface_eu_test    Mac 2020-12-08 22:15:37   \n",
       "7   0002CE61FF2C4011     B  interface_eu_test    Mac 2020-12-10 15:23:08   \n",
       "8   0002CE61FF2C4011     B  interface_eu_test    Mac 2020-12-10 15:23:09   \n",
       "11  001E72F50D1C48FA     A  interface_eu_test    Mac 2020-12-17 15:44:05   \n",
       "\n",
       "      event_name details  lifetime  \n",
       "0   registration   -2.38         0  \n",
       "1          login     NaN         0  \n",
       "2          login     NaN         0  \n",
       "3          login     NaN         0  \n",
       "4          login     NaN         1  \n",
       "5   product_page     NaN         1  \n",
       "6   product_page     NaN         1  \n",
       "7   product_page     NaN         3  \n",
       "8   product_cart     NaN         3  \n",
       "11  registration   -3.61         0  "
      ]
     },
     "execution_count": 27,
     "metadata": {},
     "output_type": "execute_result"
    }
   ],
   "source": [
    "reg_times = participants_events[participants_events['event_name'] == 'registration'][['user_id', 'event_dt']]\n",
    "reg_times = reg_times.drop_duplicates('user_id').set_index('user_id')['event_dt']\n",
    "\n",
    "participants_events['reg_time'] = participants_events['user_id'].map(reg_times)\n",
    "\n",
    "participants_events['lifetime'] = (participants_events['event_dt'] - participants_events['reg_time']).dt.days\n",
    "\n",
    "participants_events = participants_events[participants_events['lifetime'] <= 7]\n",
    "\n",
    "participants_events = participants_events.drop(columns=['reg_time'])\n",
    "\n",
    "participants_events.head(10)"
   ]
  },
  {
   "cell_type": "markdown",
   "id": "4be81b21",
   "metadata": {},
   "source": [
    "<div class=\"alert alert-info\"> <b> Комментарий студента v1:</b>  У меня не получилось придумать более красивый вариант, как можно было посчитать лайфтайм, можно какой-нибудь пример с более простым или более эффективным кодом? Пыталась придумать функцию, но неполучилось :( </div>    "
   ]
  },
  {
   "attachments": {
    "image.png": {
     "image/png": "[encoded data removed]"
    }
   },
   "cell_type": "markdown",
   "id": "025bf759",
   "metadata": {},
   "source": [
    "<div class=\"alert alert-block alert-success\">✔️\n",
    "    \n",
    "\n",
    "__Комментарий от ревьюера №1__ \n",
    "    \n",
    "    \n",
    "Почему, хорошая реализация. Можно вот так например ![image.png](attachment:image.png)"
   ]
  },
  {
   "cell_type": "markdown",
   "id": "0bc5b941",
   "metadata": {},
   "source": [
    "<div class=\"alert alert-info\"> <b> Комментарий студента v2:</b> Спасибо, не рассматривала такой вариант </div>    "
   ]
  },
  {
   "cell_type": "markdown",
   "id": "93384333",
   "metadata": {},
   "source": [
    "<div class=\"alert alert-block alert-success\">✔️\n",
    "    \n",
    "\n",
    "__Комментарий от ревьюера №2__\n",
    "\n",
    "Рад поделиться ^^"
   ]
  },
  {
   "cell_type": "markdown",
   "id": "7cf1df48",
   "metadata": {},
   "source": [
    "Оценим достаточность выборки для получения статистически значимых результатов A/B-теста. Заданные параметры:\n",
    "\n",
    "- базовый показатель конверсии — 30%,\n",
    "\n",
    "- мощность теста — 80%,\n",
    "\n",
    "- достоверность теста — 95%."
   ]
  },
  {
   "cell_type": "code",
   "execution_count": 28,
   "id": "7d97b466",
   "metadata": {},
   "outputs": [
    {
     "name": "stdout",
     "output_type": "stream",
     "text": [
      "Необходимое количество пользователей в каждой группе: 1375\n"
     ]
    }
   ],
   "source": [
    "baseline = 0.30        \n",
    "target   = 0.35         \n",
    "alpha = 0.05          \n",
    "power = 0.80           \n",
    "\n",
    "effect_size = proportion_effectsize(baseline, target)\n",
    "\n",
    "analysis = NormalIndPower()\n",
    "sample_size = analysis.solve_power(effect_size=effect_size, power=power, alpha=alpha, ratio=1, alternative='two-sided')\n",
    "\n",
    "print(f\"Необходимое количество пользователей в каждой группе: {int(sample_size)}\")"
   ]
  },
  {
   "cell_type": "code",
   "execution_count": 29,
   "id": "133cda7f",
   "metadata": {},
   "outputs": [
    {
     "data": {
      "image/png": "[encoded data removed]",
      "text/plain": [
       "<Figure size 576x432 with 1 Axes>"
      ]
     },
     "metadata": {
      "needs_background": "light"
     },
     "output_type": "display_data"
    }
   ],
   "source": [
    "# Проверим достаточность выборок (оценим кол-во пользователей в каждой группе)\n",
    "\n",
    "group_info = participants_events.groupby('group')['user_id'].nunique()\n",
    "\n",
    "plt.figure(figsize=(8, 6))\n",
    "plt.bar(group_info.index, group_info.values, color ='orange')\n",
    "\n",
    "for i, v in enumerate(group_info.values):\n",
    "    plt.text(i, v, str(v), ha='center', va='bottom')\n",
    "\n",
    "plt.title('Количество пользователей в тестовых группах', fontsize=14, fontweight='bold')\n",
    "plt.xlabel('Тестовая группа')\n",
    "plt.ylabel('Количество пользователей')\n",
    "plt.grid(axis='x', linestyle='--')\n",
    "plt.grid(linestyle='--', alpha=0.7)\n",
    "plt.show()"
   ]
  },
  {
   "cell_type": "markdown",
   "id": "SadyUDgZs0t3",
   "metadata": {
    "id": "SadyUDgZs0t3"
   },
   "source": [
    "- рассчитаем для каждой группы количество посетителей, сделавших покупку, и общее количество посетителей."
   ]
  },
  {
   "cell_type": "markdown",
   "id": "dd89f5ca",
   "metadata": {},
   "source": [
    "<div class=\"alert alert-info\"> <b> Комментарий студента v1:</b>  Я решила под общим кол-вом взять всех зарегистрировавшихся, т.к. каждый пользователь точно должен был пройти этот шаг, даже если потом больше никаких шагов не было </div>    "
   ]
  },
  {
   "cell_type": "markdown",
   "id": "550c3ab5",
   "metadata": {},
   "source": []
  },
  {
   "cell_type": "code",
   "execution_count": 30,
   "id": "c8c6028d",
   "metadata": {},
   "outputs": [
    {
     "data": {
      "text/html": [
       "<div>\n",
       "<style scoped>\n",
       "    .dataframe tbody tr th:only-of-type {\n",
       "        vertical-align: middle;\n",
       "    }\n",
       "\n",
       "    .dataframe tbody tr th {\n",
       "        vertical-align: top;\n",
       "    }\n",
       "\n",
       "    .dataframe thead th {\n",
       "        text-align: right;\n",
       "    }\n",
       "</style>\n",
       "<table border=\"1\" class=\"dataframe\">\n",
       "  <thead>\n",
       "    <tr style=\"text-align: right;\">\n",
       "      <th></th>\n",
       "      <th>group</th>\n",
       "      <th>event_name</th>\n",
       "      <th>user_count</th>\n",
       "    </tr>\n",
       "  </thead>\n",
       "  <tbody>\n",
       "    <tr>\n",
       "      <th>0</th>\n",
       "      <td>A</td>\n",
       "      <td>purchase</td>\n",
       "      <td>1487</td>\n",
       "    </tr>\n",
       "    <tr>\n",
       "      <th>1</th>\n",
       "      <td>A</td>\n",
       "      <td>registration</td>\n",
       "      <td>5174</td>\n",
       "    </tr>\n",
       "    <tr>\n",
       "      <th>2</th>\n",
       "      <td>B</td>\n",
       "      <td>purchase</td>\n",
       "      <td>1618</td>\n",
       "    </tr>\n",
       "    <tr>\n",
       "      <th>3</th>\n",
       "      <td>B</td>\n",
       "      <td>registration</td>\n",
       "      <td>5229</td>\n",
       "    </tr>\n",
       "  </tbody>\n",
       "</table>\n",
       "</div>"
      ],
      "text/plain": [
       "  group    event_name  user_count\n",
       "0     A      purchase        1487\n",
       "1     A  registration        5174\n",
       "2     B      purchase        1618\n",
       "3     B  registration        5229"
      ]
     },
     "execution_count": 30,
     "metadata": {},
     "output_type": "execute_result"
    }
   ],
   "source": [
    "group_info = participants_events[participants_events['event_name'].isin(\n",
    "    ['registration', 'purchase'])].groupby(['group','event_name'])['user_id'].nunique().reset_index(name='user_count')\n",
    "\n",
    "group_info"
   ]
  },
  {
   "cell_type": "code",
   "execution_count": 31,
   "id": "62e182a9",
   "metadata": {},
   "outputs": [
    {
     "data": {
      "image/png": "[encoded data removed]",
      "text/plain": [
       "<Figure size 576x432 with 1 Axes>"
      ]
     },
     "metadata": {
      "needs_background": "light"
     },
     "output_type": "display_data"
    }
   ],
   "source": [
    "plt.figure(figsize=(8, 6))\n",
    "ax = sns.barplot(data=group_info, x='event_name', y='user_count', hue='group')\n",
    "\n",
    "for p in ax.patches:\n",
    "    height = p.get_height()\n",
    "    ax.text(\n",
    "        x=p.get_x() + p.get_width() / 2,  \n",
    "        y=height + 50,                   \n",
    "        s=f'{int(height)}',\n",
    "        ha='center',\n",
    "        va='bottom'\n",
    "    )\n",
    "\n",
    "plt.title('Количество уникальных пользователей по событиям (группы A и B)', fontsize=14, fontweight='bold')\n",
    "plt.xlabel('Событие')\n",
    "plt.ylabel('Число уникальных пользователей')\n",
    "plt.grid(axis='y', linestyle='--', alpha=0.7)\n",
    "plt.tight_layout()\n",
    "\n",
    "plt.show()"
   ]
  },
  {
   "cell_type": "code",
   "execution_count": 32,
   "id": "59008d30",
   "metadata": {},
   "outputs": [
    {
     "data": {
      "text/html": [
       "<div>\n",
       "<style scoped>\n",
       "    .dataframe tbody tr th:only-of-type {\n",
       "        vertical-align: middle;\n",
       "    }\n",
       "\n",
       "    .dataframe tbody tr th {\n",
       "        vertical-align: top;\n",
       "    }\n",
       "\n",
       "    .dataframe thead th {\n",
       "        text-align: right;\n",
       "    }\n",
       "</style>\n",
       "<table border=\"1\" class=\"dataframe\">\n",
       "  <thead>\n",
       "    <tr style=\"text-align: right;\">\n",
       "      <th>event_name</th>\n",
       "      <th>purchase</th>\n",
       "      <th>registration</th>\n",
       "      <th>conversion_rate</th>\n",
       "    </tr>\n",
       "    <tr>\n",
       "      <th>group</th>\n",
       "      <th></th>\n",
       "      <th></th>\n",
       "      <th></th>\n",
       "    </tr>\n",
       "  </thead>\n",
       "  <tbody>\n",
       "    <tr>\n",
       "      <th>A</th>\n",
       "      <td>1487</td>\n",
       "      <td>5174</td>\n",
       "      <td>0.29</td>\n",
       "    </tr>\n",
       "    <tr>\n",
       "      <th>B</th>\n",
       "      <td>1618</td>\n",
       "      <td>5229</td>\n",
       "      <td>0.31</td>\n",
       "    </tr>\n",
       "  </tbody>\n",
       "</table>\n",
       "</div>"
      ],
      "text/plain": [
       "event_name  purchase  registration  conversion_rate\n",
       "group                                              \n",
       "A               1487          5174             0.29\n",
       "B               1618          5229             0.31"
      ]
     },
     "execution_count": 32,
     "metadata": {},
     "output_type": "execute_result"
    }
   ],
   "source": [
    "# Посмотрим значения конверсии в каждой группе\n",
    "pivot_df = group_info.pivot(index='group', columns='event_name', values='user_count')\n",
    "\n",
    "pivot_df['conversion_rate'] = round(pivot_df['purchase'] / pivot_df['registration'],2)\n",
    "\n",
    "pivot_df"
   ]
  },
  {
   "cell_type": "code",
   "execution_count": 33,
   "id": "4ce3d57a",
   "metadata": {},
   "outputs": [
    {
     "name": "stdout",
     "output_type": "stream",
     "text": [
      "Увеличение конверсии в группе В: +2.20%\n"
     ]
    }
   ],
   "source": [
    "# Посмотрим насколько увеличилась конверсия\n",
    "\n",
    "group_b_all = participants_events[(participants_events['event_name']=='registration')\n",
    "                          &(participants_events['group']=='B')]['user_id'].nunique()\n",
    "\n",
    "group_a_all = participants_events[(participants_events['event_name']=='registration')\n",
    "                          &(participants_events['group']=='A')]['user_id'].nunique()\n",
    "\n",
    "group_b_purchase = participants_events[(participants_events['event_name']=='purchase')\n",
    "                          &(participants_events['group']=='B')]['user_id'].nunique()\n",
    "\n",
    "group_a_purchase = participants_events[(participants_events['event_name']=='purchase')\n",
    "                          &(participants_events['group']=='A')]['user_id'].nunique()\n",
    "\n",
    "rate_b = group_b_purchase / group_b_all\n",
    "rate_a = group_a_purchase / group_a_all\n",
    "diff = rate_b - rate_a\n",
    "\n",
    "print(f\"Увеличение конверсии в группе В: +{diff:.2%}\")"
   ]
  },
  {
   "cell_type": "markdown",
   "id": "sh1JpGvAs5E3",
   "metadata": {
    "id": "sh1JpGvAs5E3"
   },
   "source": [
    "- сделаем предварительный общий вывод об изменении пользовательской активности в тестовой группе по сравнению с контрольной."
   ]
  },
  {
   "cell_type": "markdown",
   "id": "a05181d1",
   "metadata": {
    "id": "hHTHPkJYs8mE"
   },
   "source": [
    "Как можно увидеть на графиках, наблюдается небольшой рост числа зарегистрированных пользователей (на 55 человека), однако количество пользователей совершивших покупку выросло значительнее (на 131 человек). В группе В наблюдается увеличение конверсии на 2.2% Данное изменение может быть вызванно именно изменением самого сайта, однако необходимо дополнительно проверить является ли это изменение статистически значимым."
   ]
  },
  {
   "cell_type": "markdown",
   "id": "5b1ff392",
   "metadata": {},
   "source": [
    "<div class=\"alert alert-block alert-danger\">\n",
    "<h2> Комментарий ревьюера <a class=\"tocSkip\"></h2>\n",
    "\n",
    "    \n",
    "<b>На доработку❌:</b> Необходимо рассчитать - на сколько процентных пунктов увеличилась конверсия"
   ]
  },
  {
   "cell_type": "markdown",
   "id": "8931924b",
   "metadata": {},
   "source": [
    "<div class=\"alert alert-info\"> <b> Комментарий студента v2:</b>  Сделала, думала по заданию это в следующем шаге нужно сделать. </div>    "
   ]
  },
  {
   "cell_type": "markdown",
   "id": "84ee7e97",
   "metadata": {},
   "source": [
    "<div class=\"alert alert-block alert-success\">✔️\n",
    "    \n",
    "\n",
    "__Комментарий от ревьюера №2__\n",
    "\n",
    "Супер, старайся, пожалуйста, придерживаться этой стратегии в дальнейших проектах =)\n",
    "</div>"
   ]
  },
  {
   "cell_type": "markdown",
   "id": "IKZ1Oo3Ws919",
   "metadata": {
    "id": "IKZ1Oo3Ws919"
   },
   "source": [
    "## 4. Проведем оценку результатов A/B-тестирования:"
   ]
  },
  {
   "cell_type": "markdown",
   "id": "dcUdBSmvtC-E",
   "metadata": {
    "id": "dcUdBSmvtC-E"
   },
   "source": [
    "- Проверим изменение конверсии подходящим статистическим тестом, учитывая все этапы проверки гипотез."
   ]
  },
  {
   "cell_type": "markdown",
   "id": "bd7a19c1",
   "metadata": {
    "id": "l_KOziBQtL3t"
   },
   "source": [
    "**H₀ (нулевая гипотеза)**: Статистически значимого изменения конверсии в тестовых группа нет. \n",
    "\n",
    "**H₁ (альтернативная гипотеза)**: Конверсия в группе В выше, чем в группе А и эта разница статистически значима."
   ]
  },
  {
   "cell_type": "markdown",
   "id": "ea5546a7",
   "metadata": {},
   "source": [
    "<div class=\"alert alert-block alert-success\">✔️\n",
    "    \n",
    "\n",
    "__Комментарий от ревьюера №1__\n",
    "\n",
    "Формулировка гипотезы верна"
   ]
  },
  {
   "cell_type": "code",
   "execution_count": 34,
   "id": "7d2059a8",
   "metadata": {},
   "outputs": [
    {
     "data": {
      "text/html": [
       "<div>\n",
       "<style scoped>\n",
       "    .dataframe tbody tr th:only-of-type {\n",
       "        vertical-align: middle;\n",
       "    }\n",
       "\n",
       "    .dataframe tbody tr th {\n",
       "        vertical-align: top;\n",
       "    }\n",
       "\n",
       "    .dataframe thead th {\n",
       "        text-align: right;\n",
       "    }\n",
       "</style>\n",
       "<table border=\"1\" class=\"dataframe\">\n",
       "  <thead>\n",
       "    <tr style=\"text-align: right;\">\n",
       "      <th>event_name</th>\n",
       "      <th>group</th>\n",
       "      <th>purchase</th>\n",
       "      <th>registration</th>\n",
       "      <th>conversion_rate</th>\n",
       "    </tr>\n",
       "  </thead>\n",
       "  <tbody>\n",
       "    <tr>\n",
       "      <th>0</th>\n",
       "      <td>A</td>\n",
       "      <td>1487</td>\n",
       "      <td>5174</td>\n",
       "      <td>0.29</td>\n",
       "    </tr>\n",
       "    <tr>\n",
       "      <th>1</th>\n",
       "      <td>B</td>\n",
       "      <td>1618</td>\n",
       "      <td>5229</td>\n",
       "      <td>0.31</td>\n",
       "    </tr>\n",
       "  </tbody>\n",
       "</table>\n",
       "</div>"
      ],
      "text/plain": [
       "event_name group  purchase  registration  conversion_rate\n",
       "0              A      1487          5174             0.29\n",
       "1              B      1618          5229             0.31"
      ]
     },
     "execution_count": 34,
     "metadata": {},
     "output_type": "execute_result"
    }
   ],
   "source": [
    "pivot_df = group_info.pivot(index='group', columns='event_name', values='user_count').reset_index()\n",
    "\n",
    "pivot_df['conversion_rate'] = round(pivot_df['purchase'] / pivot_df['registration'],2)\n",
    "\n",
    "pivot_df"
   ]
  },
  {
   "cell_type": "code",
   "execution_count": 35,
   "id": "55494ffc",
   "metadata": {},
   "outputs": [
    {
     "name": "stdout",
     "output_type": "stream",
     "text": [
      "Предпосылка о достаточном количестве данных выполняется!\n",
      "\n",
      "pvalue по z-тесту = 0.007041421154716094\n",
      "\n",
      "Нулевая гипотеза не находит подтверждения!\n",
      "Конверсия в группе В выше, чем в группе А и эта разница статистически значима.\n"
     ]
    }
   ],
   "source": [
    "n_a = participants_events[(participants_events['event_name']=='registration')\n",
    "                          &(participants_events['group']=='B')]['user_id'].nunique()\n",
    "\n",
    "n_b = participants_events[(participants_events['event_name']=='registration')\n",
    "                          &(participants_events['group']=='A')]['user_id'].nunique()\n",
    "\n",
    "m_a = participants_events[(participants_events['event_name']=='purchase')\n",
    "                          &(participants_events['group']=='B')]['user_id'].nunique()\n",
    "\n",
    "m_b = participants_events[(participants_events['event_name']=='purchase')\n",
    "                          &(participants_events['group']=='A')]['user_id'].nunique()\n",
    "\n",
    "p_a, p_b = m_a/n_a, m_b/n_b \n",
    "\n",
    "if (p_a*n_a > 10)and((1-p_a)*n_a > 10)and(p_b*n_b > 10)and((1-p_b)*n_b > 10):\n",
    "    print('Предпосылка о достаточном количестве данных выполняется!')\n",
    "else:\n",
    "    print('Предпосылка о достаточном количестве данных НЕ выполняется!')\n",
    "print()\n",
    "\n",
    "alpha = 0.05 \n",
    "\n",
    "\n",
    "stat_ztest, p_value_ztest = proportions_ztest( \n",
    "    [m_a, m_b],\n",
    "    [n_a, n_b],\n",
    "    alternative='larger'\n",
    ")\n",
    "\n",
    "print(f'pvalue по z-тесту = {p_value_ztest}') \n",
    "print()\n",
    "\n",
    "if p_value_ztest > alpha:\n",
    "    print('Нулевая гипотеза находит подтверждение!')\n",
    "    print('Статистически значимого изменения конверсии в тестовых группа нет.')\n",
    "else:\n",
    "    print('Нулевая гипотеза не находит подтверждения!')\n",
    "    print('Конверсия в группе В выше, чем в группе А и эта разница статистически значима.')"
   ]
  },
  {
   "cell_type": "code",
   "execution_count": 36,
   "id": "d5e04630",
   "metadata": {},
   "outputs": [
    {
     "name": "stdout",
     "output_type": "stream",
     "text": [
      "Разница в конверсии: 2.20%\n"
     ]
    }
   ],
   "source": [
    "rate_a = m_b / n_b\n",
    "rate_b = m_a / n_a\n",
    "diff = rate_b - rate_a\n",
    "\n",
    "print(f\"Разница в конверсии: {diff:.2%}\")"
   ]
  },
  {
   "cell_type": "markdown",
   "id": "9jkyKOjgtGoc",
   "metadata": {
    "id": "9jkyKOjgtGoc"
   },
   "source": [
    "- Выводы по проведённой оценке результатов A/B-тестирования."
   ]
  },
  {
   "cell_type": "markdown",
   "id": "npoPPSKytKvR",
   "metadata": {
    "id": "npoPPSKytKvR"
   },
   "source": [
    "Был проведен A/B-тест для проверки гипотезы об увеличении числа покупок на сайте после изменения его интерфейса. Для проведения теста были выбраны пользователи, которые совершали действия в течение первых 7 дней с момента регистрации и только те пользователи, которые участвовали исключительно в тесте `interface_eu_test`.\n",
    "\n",
    "В тестовые группы А и В попало по примерно 5 тысяч пользователей, для них была расчитана конверсия перехода от регистрации к покупке и проводилась оценка изменения уровня конверсии для каждой группы. Ожидаемый эффект конверсии был `5%`, реальный эффект составил `2.2%`. Однако, проверка изменения уровня конверсии z-тестом показала, что гипотеза о том, что изменение дизайна сайта не приведет к статистически значимому изменению конверсии - не подтвердилось, разница в конверсии оказалась статистически значима.\n",
    "\n",
    "Интерпритация результатов: изменение дизайна сайта приведет к улучшению пользовательного опыта и увеличит значение конверсии к покупке, однако реальное увеличение конверсии может оказаться ниже ожидаемого."
   ]
  },
  {
   "cell_type": "markdown",
   "id": "8cfcadda",
   "metadata": {},
   "source": [
    "<div class=\"alert alert-block alert-success\">✔️\n",
    "    \n",
    "\n",
    "__Комментарий от ревьюера №2__\n",
    "\n",
    "Совершенно верно, ожидаемый эффект выше реального. Тест не прокрасился, тем самым тест можно признать неудачным"
   ]
  },
  {
   "cell_type": "markdown",
   "id": "5028e54f",
   "metadata": {},
   "source": []
  },
  {
   "cell_type": "markdown",
   "id": "6a609154",
   "metadata": {},
   "source": [
    "<div style=\"border:solid blue 3px; padding: 20px\">\n",
    "<div class=\"alert alert-block alert-success\">✔️\n",
    "    \n",
    "\n",
    "__Коментарий от ревьюера №2__\n",
    "    \n",
    "\n",
    "В остальном всё чудно😊. Твой проект так и просится на github =)   \n",
    "    \n",
    "Поздравляю с успешным завершением проекта 😊👍\n",
    "И желаю успехов в новых работах 😊\n",
    "    \n",
    "---\n",
    "    \n",
    "От себя хочу порекомендовать тебе отличный метариал по статистике. \n",
    "    \n",
    "* Курс \"Вероятность и статистика\" | Глеб Михайлов (free): https://www.youtube.com/playlist?list=PLQJ7ptkRY-xbHLLI66KdscKp_FJt0FsIi\n",
    "    \n",
    "* Методы обнаружения выбросов: https://youtu.be/TOK7Kq7x0yc\n",
    "    \n",
    "\n",
    "</div>"
   ]
  }
 ],
 "metadata": {
  "ExecuteTimeLog": [
   {
    "duration": 11647,
    "start_time": "2025-04-15T08:59:03.316Z"
   },
   {
    "duration": 91,
    "start_time": "2025-04-15T08:59:16.953Z"
   },
   {
    "duration": 19,
    "start_time": "2025-04-15T08:59:39.225Z"
   },
   {
    "duration": 12,
    "start_time": "2025-04-15T09:04:25.277Z"
   },
   {
    "duration": 119,
    "start_time": "2025-04-15T09:08:09.450Z"
   },
   {
    "duration": 8,
    "start_time": "2025-04-15T09:08:16.849Z"
   },
   {
    "duration": 114,
    "start_time": "2025-04-15T09:13:36.665Z"
   },
   {
    "duration": 43,
    "start_time": "2025-04-15T09:19:23.008Z"
   },
   {
    "duration": 349,
    "start_time": "2025-04-15T09:27:31.127Z"
   },
   {
    "duration": 516,
    "start_time": "2025-04-15T09:29:21.244Z"
   },
   {
    "duration": 316,
    "start_time": "2025-04-15T09:29:38.281Z"
   },
   {
    "duration": 161,
    "start_time": "2025-04-15T09:29:56.629Z"
   },
   {
    "duration": 397,
    "start_time": "2025-04-15T09:30:41.519Z"
   },
   {
    "duration": 190,
    "start_time": "2025-04-15T09:30:56.251Z"
   },
   {
    "duration": 173,
    "start_time": "2025-04-15T09:31:07.692Z"
   },
   {
    "duration": 171,
    "start_time": "2025-04-15T09:31:14.552Z"
   },
   {
    "duration": 15,
    "start_time": "2025-04-15T09:37:27.248Z"
   },
   {
    "duration": 3153,
    "start_time": "2025-04-15T09:37:54.053Z"
   },
   {
    "duration": 30,
    "start_time": "2025-04-15T09:38:03.415Z"
   },
   {
    "duration": 25,
    "start_time": "2025-04-15T09:39:26.621Z"
   },
   {
    "duration": 11,
    "start_time": "2025-04-15T09:40:02.242Z"
   },
   {
    "duration": 23,
    "start_time": "2025-04-15T09:40:18.401Z"
   },
   {
    "duration": 28,
    "start_time": "2025-04-15T09:41:01.000Z"
   },
   {
    "duration": 201,
    "start_time": "2025-04-15T09:42:42.147Z"
   },
   {
    "duration": 11,
    "start_time": "2025-04-15T09:44:24.485Z"
   },
   {
    "duration": 25,
    "start_time": "2025-04-15T09:51:27.427Z"
   },
   {
    "duration": 10,
    "start_time": "2025-04-15T09:53:02.434Z"
   },
   {
    "duration": 16,
    "start_time": "2025-04-15T09:54:37.398Z"
   },
   {
    "duration": 17,
    "start_time": "2025-04-15T10:07:30.300Z"
   },
   {
    "duration": 13,
    "start_time": "2025-04-15T10:07:44.090Z"
   },
   {
    "duration": 170,
    "start_time": "2025-04-15T10:10:29.194Z"
   },
   {
    "duration": 173,
    "start_time": "2025-04-15T10:10:56.782Z"
   },
   {
    "duration": 13,
    "start_time": "2025-04-15T10:13:02.522Z"
   },
   {
    "duration": 9910,
    "start_time": "2025-04-16T08:42:36.512Z"
   },
   {
    "duration": 34,
    "start_time": "2025-04-16T08:42:46.424Z"
   },
   {
    "duration": 13,
    "start_time": "2025-04-16T08:42:46.459Z"
   },
   {
    "duration": 32,
    "start_time": "2025-04-16T08:42:46.474Z"
   },
   {
    "duration": 7,
    "start_time": "2025-04-16T08:42:46.507Z"
   },
   {
    "duration": 108,
    "start_time": "2025-04-16T08:42:46.516Z"
   },
   {
    "duration": 266,
    "start_time": "2025-04-16T08:42:46.627Z"
   },
   {
    "duration": 138,
    "start_time": "2025-04-16T08:42:46.895Z"
   },
   {
    "duration": 11,
    "start_time": "2025-04-16T08:42:47.034Z"
   },
   {
    "duration": 9,
    "start_time": "2025-04-16T08:42:47.063Z"
   },
   {
    "duration": 1864,
    "start_time": "2025-04-16T08:42:47.074Z"
   },
   {
    "duration": 7,
    "start_time": "2025-04-16T08:53:34.589Z"
   },
   {
    "duration": 8,
    "start_time": "2025-04-16T08:53:56.704Z"
   },
   {
    "duration": 18,
    "start_time": "2025-04-16T08:54:25.600Z"
   },
   {
    "duration": 18,
    "start_time": "2025-04-16T08:55:13.136Z"
   },
   {
    "duration": 5,
    "start_time": "2025-04-16T09:00:12.266Z"
   },
   {
    "duration": 8,
    "start_time": "2025-04-16T09:00:21.051Z"
   },
   {
    "duration": 72,
    "start_time": "2025-04-16T09:01:11.372Z"
   },
   {
    "duration": 108,
    "start_time": "2025-04-16T09:18:15.489Z"
   },
   {
    "duration": 19,
    "start_time": "2025-04-16T09:18:21.538Z"
   },
   {
    "duration": 5,
    "start_time": "2025-04-16T09:21:23.250Z"
   },
   {
    "duration": 6,
    "start_time": "2025-04-16T09:22:23.987Z"
   },
   {
    "duration": 19,
    "start_time": "2025-04-16T09:23:09.981Z"
   },
   {
    "duration": 10,
    "start_time": "2025-04-16T09:23:19.704Z"
   },
   {
    "duration": 104,
    "start_time": "2025-04-16T09:24:42.530Z"
   },
   {
    "duration": 137,
    "start_time": "2025-04-16T09:24:50.830Z"
   },
   {
    "duration": 10,
    "start_time": "2025-04-16T09:25:38.798Z"
   },
   {
    "duration": 87,
    "start_time": "2025-04-16T09:25:55.186Z"
   },
   {
    "duration": 14,
    "start_time": "2025-04-16T09:29:18.104Z"
   },
   {
    "duration": 24,
    "start_time": "2025-04-16T09:30:36.188Z"
   },
   {
    "duration": 28,
    "start_time": "2025-04-16T09:30:45.393Z"
   },
   {
    "duration": 26,
    "start_time": "2025-04-16T09:32:33.070Z"
   },
   {
    "duration": 8,
    "start_time": "2025-04-16T09:33:55.259Z"
   },
   {
    "duration": 20,
    "start_time": "2025-04-16T09:33:56.298Z"
   },
   {
    "duration": 75,
    "start_time": "2025-04-16T09:34:57.496Z"
   },
   {
    "duration": 262,
    "start_time": "2025-04-16T09:36:36.172Z"
   },
   {
    "duration": 175,
    "start_time": "2025-04-16T09:37:06.633Z"
   },
   {
    "duration": 198,
    "start_time": "2025-04-16T09:37:47.174Z"
   },
   {
    "duration": 192,
    "start_time": "2025-04-16T09:37:57.944Z"
   },
   {
    "duration": 9,
    "start_time": "2025-04-16T09:41:57.474Z"
   },
   {
    "duration": 15,
    "start_time": "2025-04-16T09:43:13.135Z"
   },
   {
    "duration": 1402,
    "start_time": "2025-04-16T09:43:20.632Z"
   },
   {
    "duration": 116,
    "start_time": "2025-04-16T09:43:41.246Z"
   },
   {
    "duration": 3370,
    "start_time": "2025-04-16T09:43:52.798Z"
   },
   {
    "duration": 45,
    "start_time": "2025-04-16T09:43:56.170Z"
   },
   {
    "duration": 11,
    "start_time": "2025-04-16T09:43:56.216Z"
   },
   {
    "duration": 18,
    "start_time": "2025-04-16T09:43:56.229Z"
   },
   {
    "duration": 4,
    "start_time": "2025-04-16T09:43:56.248Z"
   },
   {
    "duration": 11,
    "start_time": "2025-04-16T09:43:56.254Z"
   },
   {
    "duration": 79,
    "start_time": "2025-04-16T09:43:56.267Z"
   },
   {
    "duration": 240,
    "start_time": "2025-04-16T09:43:56.348Z"
   },
   {
    "duration": 132,
    "start_time": "2025-04-16T09:43:56.590Z"
   },
   {
    "duration": 11,
    "start_time": "2025-04-16T09:43:56.724Z"
   },
   {
    "duration": 26,
    "start_time": "2025-04-16T09:43:56.736Z"
   },
   {
    "duration": 1678,
    "start_time": "2025-04-16T09:43:56.764Z"
   },
   {
    "duration": 8,
    "start_time": "2025-04-16T09:43:58.444Z"
   },
   {
    "duration": 124,
    "start_time": "2025-04-16T09:43:58.453Z"
   },
   {
    "duration": 90,
    "start_time": "2025-04-16T09:43:58.578Z"
   },
   {
    "duration": 25,
    "start_time": "2025-04-16T09:43:58.670Z"
   },
   {
    "duration": 6,
    "start_time": "2025-04-16T09:43:58.697Z"
   },
   {
    "duration": 88,
    "start_time": "2025-04-16T09:43:58.705Z"
   },
   {
    "duration": 197,
    "start_time": "2025-04-16T09:43:58.794Z"
   },
   {
    "duration": 185,
    "start_time": "2025-04-16T09:43:58.993Z"
   },
   {
    "duration": 8,
    "start_time": "2025-04-16T09:43:59.179Z"
   },
   {
    "duration": 179,
    "start_time": "2025-04-16T09:45:00.713Z"
   },
   {
    "duration": 67,
    "start_time": "2025-04-16T09:45:03.195Z"
   },
   {
    "duration": 191,
    "start_time": "2025-04-16T09:45:19.324Z"
   },
   {
    "duration": 67,
    "start_time": "2025-04-16T10:01:43.640Z"
   },
   {
    "duration": 68,
    "start_time": "2025-04-16T10:02:02.255Z"
   },
   {
    "duration": 1547,
    "start_time": "2025-04-16T10:02:52.779Z"
   },
   {
    "duration": 10,
    "start_time": "2025-04-16T10:03:02.991Z"
   },
   {
    "duration": 11,
    "start_time": "2025-04-16T10:03:09.525Z"
   },
   {
    "duration": 88,
    "start_time": "2025-04-16T10:06:28.742Z"
   },
   {
    "duration": 9569,
    "start_time": "2025-04-18T11:29:31.812Z"
   },
   {
    "duration": 45,
    "start_time": "2025-04-18T11:29:41.383Z"
   },
   {
    "duration": 12,
    "start_time": "2025-04-18T11:29:41.430Z"
   },
   {
    "duration": 19,
    "start_time": "2025-04-18T11:29:41.444Z"
   },
   {
    "duration": 5,
    "start_time": "2025-04-18T11:29:41.464Z"
   },
   {
    "duration": 8,
    "start_time": "2025-04-18T11:29:41.470Z"
   },
   {
    "duration": 98,
    "start_time": "2025-04-18T11:29:41.480Z"
   },
   {
    "duration": 260,
    "start_time": "2025-04-18T11:29:41.580Z"
   },
   {
    "duration": 146,
    "start_time": "2025-04-18T11:29:41.842Z"
   },
   {
    "duration": 13,
    "start_time": "2025-04-18T11:29:41.990Z"
   },
   {
    "duration": 9,
    "start_time": "2025-04-18T11:29:42.004Z"
   },
   {
    "duration": 1681,
    "start_time": "2025-04-18T11:29:42.014Z"
   },
   {
    "duration": 7,
    "start_time": "2025-04-18T11:29:43.697Z"
   },
   {
    "duration": 134,
    "start_time": "2025-04-18T11:29:43.706Z"
   },
   {
    "duration": 73,
    "start_time": "2025-04-18T11:29:43.842Z"
   },
   {
    "duration": 220,
    "start_time": "2025-04-18T11:29:43.916Z"
   },
   {
    "duration": 9,
    "start_time": "2025-04-18T11:29:44.138Z"
   },
   {
    "duration": 204,
    "start_time": "2025-04-18T11:29:44.148Z"
   },
   {
    "duration": 8,
    "start_time": "2025-04-18T11:29:44.354Z"
   },
   {
    "duration": 12,
    "start_time": "2025-04-18T11:29:44.363Z"
   },
   {
    "duration": 34,
    "start_time": "2025-04-18T11:29:44.377Z"
   },
   {
    "duration": 207,
    "start_time": "2025-04-18T11:32:19.998Z"
   },
   {
    "duration": 30,
    "start_time": "2025-04-18T11:32:46.245Z"
   },
   {
    "duration": 76,
    "start_time": "2025-04-18T11:35:46.651Z"
   },
   {
    "duration": 81,
    "start_time": "2025-04-18T11:36:28.283Z"
   },
   {
    "duration": 3598,
    "start_time": "2025-04-18T11:36:45.775Z"
   },
   {
    "duration": 33,
    "start_time": "2025-04-18T11:36:49.375Z"
   },
   {
    "duration": 13,
    "start_time": "2025-04-18T11:36:49.410Z"
   },
   {
    "duration": 28,
    "start_time": "2025-04-18T11:36:49.425Z"
   },
   {
    "duration": 4,
    "start_time": "2025-04-18T11:36:49.455Z"
   },
   {
    "duration": 14,
    "start_time": "2025-04-18T11:36:49.461Z"
   },
   {
    "duration": 103,
    "start_time": "2025-04-18T11:36:49.476Z"
   },
   {
    "duration": 261,
    "start_time": "2025-04-18T11:36:49.581Z"
   },
   {
    "duration": 141,
    "start_time": "2025-04-18T11:36:49.844Z"
   },
   {
    "duration": 17,
    "start_time": "2025-04-18T11:36:49.987Z"
   },
   {
    "duration": 33,
    "start_time": "2025-04-18T11:36:50.006Z"
   },
   {
    "duration": 1491,
    "start_time": "2025-04-18T11:36:50.041Z"
   },
   {
    "duration": 8,
    "start_time": "2025-04-18T11:36:51.535Z"
   },
   {
    "duration": 159,
    "start_time": "2025-04-18T11:36:51.546Z"
   },
   {
    "duration": 78,
    "start_time": "2025-04-18T11:36:51.707Z"
   },
   {
    "duration": 218,
    "start_time": "2025-04-18T11:36:51.787Z"
   },
   {
    "duration": 9,
    "start_time": "2025-04-18T11:36:52.007Z"
   },
   {
    "duration": 252,
    "start_time": "2025-04-18T11:36:52.017Z"
   },
   {
    "duration": 28,
    "start_time": "2025-04-18T11:36:52.271Z"
   },
   {
    "duration": 201,
    "start_time": "2025-04-18T11:36:52.301Z"
   },
   {
    "duration": 81,
    "start_time": "2025-04-18T11:37:01.235Z"
   },
   {
    "duration": 39,
    "start_time": "2025-04-18T11:39:26.504Z"
   },
   {
    "duration": 38,
    "start_time": "2025-04-18T11:39:42.912Z"
   },
   {
    "duration": 37,
    "start_time": "2025-04-18T11:39:53.432Z"
   },
   {
    "duration": 75,
    "start_time": "2025-04-18T11:40:43.600Z"
   },
   {
    "duration": 107,
    "start_time": "2025-04-18T11:41:24.264Z"
   },
   {
    "duration": 12,
    "start_time": "2025-04-18T11:43:12.574Z"
   },
   {
    "duration": 108,
    "start_time": "2025-04-18T11:43:40.422Z"
   },
   {
    "duration": 8,
    "start_time": "2025-04-18T11:43:53.158Z"
   },
   {
    "duration": 74,
    "start_time": "2025-04-18T11:44:41.086Z"
   },
   {
    "duration": 75,
    "start_time": "2025-04-18T11:45:01.102Z"
   },
   {
    "duration": 77,
    "start_time": "2025-04-18T11:45:19.853Z"
   },
   {
    "duration": 67,
    "start_time": "2025-04-18T11:48:06.443Z"
   },
   {
    "duration": 70,
    "start_time": "2025-04-18T11:49:38.557Z"
   },
   {
    "duration": 40,
    "start_time": "2025-04-18T11:51:29.352Z"
   },
   {
    "duration": 11,
    "start_time": "2025-04-18T11:53:27.072Z"
   },
   {
    "duration": 1047,
    "start_time": "2025-04-18T11:58:02.629Z"
   },
   {
    "duration": 58,
    "start_time": "2025-04-18T11:58:21.468Z"
   },
   {
    "duration": 70,
    "start_time": "2025-04-18T11:58:28.252Z"
   },
   {
    "duration": 70,
    "start_time": "2025-04-18T11:58:51.125Z"
   },
   {
    "duration": 73,
    "start_time": "2025-04-18T11:59:14.483Z"
   },
   {
    "duration": 66,
    "start_time": "2025-04-18T11:59:25.699Z"
   },
   {
    "duration": 71,
    "start_time": "2025-04-18T12:11:34.490Z"
   },
   {
    "duration": 1085,
    "start_time": "2025-04-18T12:11:50.914Z"
   },
   {
    "duration": 13,
    "start_time": "2025-04-18T12:12:02.546Z"
   },
   {
    "duration": 61,
    "start_time": "2025-04-18T12:14:03.299Z"
   },
   {
    "duration": 12,
    "start_time": "2025-04-18T12:14:06.680Z"
   },
   {
    "duration": 1240,
    "start_time": "2025-04-18T12:14:25.744Z"
   },
   {
    "duration": 0,
    "start_time": "2025-04-18T12:14:26.986Z"
   },
   {
    "duration": 3840,
    "start_time": "2025-04-18T12:14:39.220Z"
   },
   {
    "duration": 48,
    "start_time": "2025-04-18T12:14:43.062Z"
   },
   {
    "duration": 42,
    "start_time": "2025-04-18T12:14:43.112Z"
   },
   {
    "duration": 18,
    "start_time": "2025-04-18T12:14:43.155Z"
   },
   {
    "duration": 14,
    "start_time": "2025-04-18T12:14:43.175Z"
   },
   {
    "duration": 8,
    "start_time": "2025-04-18T12:14:43.191Z"
   },
   {
    "duration": 91,
    "start_time": "2025-04-18T12:14:43.201Z"
   },
   {
    "duration": 301,
    "start_time": "2025-04-18T12:14:43.295Z"
   },
   {
    "duration": 162,
    "start_time": "2025-04-18T12:14:43.597Z"
   },
   {
    "duration": 16,
    "start_time": "2025-04-18T12:14:43.761Z"
   },
   {
    "duration": 12,
    "start_time": "2025-04-18T12:14:43.779Z"
   },
   {
    "duration": 1517,
    "start_time": "2025-04-18T12:14:43.793Z"
   },
   {
    "duration": 8,
    "start_time": "2025-04-18T12:14:45.312Z"
   },
   {
    "duration": 180,
    "start_time": "2025-04-18T12:14:45.323Z"
   },
   {
    "duration": 82,
    "start_time": "2025-04-18T12:14:45.505Z"
   },
   {
    "duration": 230,
    "start_time": "2025-04-18T12:14:45.589Z"
   },
   {
    "duration": 8,
    "start_time": "2025-04-18T12:14:45.822Z"
   },
   {
    "duration": 249,
    "start_time": "2025-04-18T12:14:45.836Z"
   },
   {
    "duration": 38,
    "start_time": "2025-04-18T12:14:46.088Z"
   },
   {
    "duration": 47,
    "start_time": "2025-04-18T12:14:46.136Z"
   },
   {
    "duration": 89,
    "start_time": "2025-04-18T12:14:46.185Z"
   },
   {
    "duration": 22,
    "start_time": "2025-04-18T12:14:46.276Z"
   },
   {
    "duration": 12,
    "start_time": "2025-04-18T12:14:46.299Z"
   },
   {
    "duration": 95,
    "start_time": "2025-04-18T12:14:46.312Z"
   },
   {
    "duration": 113,
    "start_time": "2025-04-18T12:14:46.409Z"
   },
   {
    "duration": 0,
    "start_time": "2025-04-18T12:14:46.524Z"
   },
   {
    "duration": 0,
    "start_time": "2025-04-18T12:14:46.525Z"
   },
   {
    "duration": 61,
    "start_time": "2025-04-18T12:14:56.324Z"
   },
   {
    "duration": 12,
    "start_time": "2025-04-18T12:15:18.860Z"
   },
   {
    "duration": 3646,
    "start_time": "2025-04-18T12:15:31.849Z"
   },
   {
    "duration": 33,
    "start_time": "2025-04-18T12:15:35.497Z"
   },
   {
    "duration": 17,
    "start_time": "2025-04-18T12:15:35.532Z"
   },
   {
    "duration": 29,
    "start_time": "2025-04-18T12:15:35.551Z"
   },
   {
    "duration": 25,
    "start_time": "2025-04-18T12:15:35.582Z"
   },
   {
    "duration": 42,
    "start_time": "2025-04-18T12:15:35.609Z"
   },
   {
    "duration": 111,
    "start_time": "2025-04-18T12:15:35.653Z"
   },
   {
    "duration": 264,
    "start_time": "2025-04-18T12:15:35.766Z"
   },
   {
    "duration": 153,
    "start_time": "2025-04-18T12:15:36.031Z"
   },
   {
    "duration": 12,
    "start_time": "2025-04-18T12:15:36.186Z"
   },
   {
    "duration": 47,
    "start_time": "2025-04-18T12:15:36.200Z"
   },
   {
    "duration": 1471,
    "start_time": "2025-04-18T12:15:36.250Z"
   },
   {
    "duration": 9,
    "start_time": "2025-04-18T12:15:37.722Z"
   },
   {
    "duration": 136,
    "start_time": "2025-04-18T12:15:37.739Z"
   },
   {
    "duration": 86,
    "start_time": "2025-04-18T12:15:37.877Z"
   },
   {
    "duration": 219,
    "start_time": "2025-04-18T12:15:37.964Z"
   },
   {
    "duration": 8,
    "start_time": "2025-04-18T12:15:38.185Z"
   },
   {
    "duration": 245,
    "start_time": "2025-04-18T12:15:38.194Z"
   },
   {
    "duration": 28,
    "start_time": "2025-04-18T12:15:38.441Z"
   },
   {
    "duration": 79,
    "start_time": "2025-04-18T12:15:38.471Z"
   },
   {
    "duration": 70,
    "start_time": "2025-04-18T12:15:38.551Z"
   },
   {
    "duration": 37,
    "start_time": "2025-04-18T12:15:38.623Z"
   },
   {
    "duration": 30,
    "start_time": "2025-04-18T12:15:38.662Z"
   },
   {
    "duration": 85,
    "start_time": "2025-04-18T12:15:38.694Z"
   },
   {
    "duration": 217,
    "start_time": "2025-04-18T12:15:38.781Z"
   },
   {
    "duration": 0,
    "start_time": "2025-04-18T12:15:39.001Z"
   },
   {
    "duration": 1135,
    "start_time": "2025-04-18T12:15:48.244Z"
   },
   {
    "duration": 3735,
    "start_time": "2025-04-18T12:15:57.970Z"
   },
   {
    "duration": 36,
    "start_time": "2025-04-18T12:16:01.707Z"
   },
   {
    "duration": 74,
    "start_time": "2025-04-18T12:16:01.745Z"
   },
   {
    "duration": 91,
    "start_time": "2025-04-18T12:16:01.821Z"
   },
   {
    "duration": 4,
    "start_time": "2025-04-18T12:16:01.914Z"
   },
   {
    "duration": 23,
    "start_time": "2025-04-18T12:16:01.920Z"
   },
   {
    "duration": 117,
    "start_time": "2025-04-18T12:16:01.945Z"
   },
   {
    "duration": 280,
    "start_time": "2025-04-18T12:16:02.065Z"
   },
   {
    "duration": 145,
    "start_time": "2025-04-18T12:16:02.348Z"
   },
   {
    "duration": 12,
    "start_time": "2025-04-18T12:16:02.495Z"
   },
   {
    "duration": 13,
    "start_time": "2025-04-18T12:16:02.508Z"
   },
   {
    "duration": 1454,
    "start_time": "2025-04-18T12:16:02.523Z"
   },
   {
    "duration": 8,
    "start_time": "2025-04-18T12:16:03.979Z"
   },
   {
    "duration": 137,
    "start_time": "2025-04-18T12:16:03.990Z"
   },
   {
    "duration": 74,
    "start_time": "2025-04-18T12:16:04.136Z"
   },
   {
    "duration": 259,
    "start_time": "2025-04-18T12:16:04.211Z"
   },
   {
    "duration": 9,
    "start_time": "2025-04-18T12:16:04.472Z"
   },
   {
    "duration": 257,
    "start_time": "2025-04-18T12:16:04.483Z"
   },
   {
    "duration": 36,
    "start_time": "2025-04-18T12:16:04.742Z"
   },
   {
    "duration": 100,
    "start_time": "2025-04-18T12:16:04.779Z"
   },
   {
    "duration": 77,
    "start_time": "2025-04-18T12:16:04.881Z"
   },
   {
    "duration": 20,
    "start_time": "2025-04-18T12:16:04.960Z"
   },
   {
    "duration": 11,
    "start_time": "2025-04-18T12:16:04.982Z"
   },
   {
    "duration": 83,
    "start_time": "2025-04-18T12:16:04.994Z"
   },
   {
    "duration": 58,
    "start_time": "2025-04-18T12:16:05.079Z"
   },
   {
    "duration": 19,
    "start_time": "2025-04-18T12:16:05.139Z"
   },
   {
    "duration": 14,
    "start_time": "2025-04-18T12:16:44.662Z"
   },
   {
    "duration": 3632,
    "start_time": "2025-04-18T12:22:56.128Z"
   },
   {
    "duration": 32,
    "start_time": "2025-04-18T12:22:59.762Z"
   },
   {
    "duration": 10,
    "start_time": "2025-04-18T12:22:59.796Z"
   },
   {
    "duration": 18,
    "start_time": "2025-04-18T12:22:59.808Z"
   },
   {
    "duration": 5,
    "start_time": "2025-04-18T12:22:59.836Z"
   },
   {
    "duration": 16,
    "start_time": "2025-04-18T12:22:59.842Z"
   },
   {
    "duration": 93,
    "start_time": "2025-04-18T12:22:59.859Z"
   },
   {
    "duration": 255,
    "start_time": "2025-04-18T12:22:59.954Z"
   },
   {
    "duration": 154,
    "start_time": "2025-04-18T12:23:00.211Z"
   },
   {
    "duration": 14,
    "start_time": "2025-04-18T12:23:00.367Z"
   },
   {
    "duration": 33,
    "start_time": "2025-04-18T12:23:00.383Z"
   },
   {
    "duration": 2034,
    "start_time": "2025-04-18T12:23:00.418Z"
   },
   {
    "duration": 9,
    "start_time": "2025-04-18T12:23:02.453Z"
   },
   {
    "duration": 217,
    "start_time": "2025-04-18T12:23:02.465Z"
   },
   {
    "duration": 78,
    "start_time": "2025-04-18T12:23:02.683Z"
   },
   {
    "duration": 212,
    "start_time": "2025-04-18T12:23:02.763Z"
   },
   {
    "duration": 10,
    "start_time": "2025-04-18T12:23:02.976Z"
   },
   {
    "duration": 392,
    "start_time": "2025-04-18T12:23:02.988Z"
   },
   {
    "duration": 30,
    "start_time": "2025-04-18T12:23:03.382Z"
   },
   {
    "duration": 57,
    "start_time": "2025-04-18T12:23:03.414Z"
   },
   {
    "duration": 95,
    "start_time": "2025-04-18T12:23:03.472Z"
   },
   {
    "duration": 21,
    "start_time": "2025-04-18T12:23:03.568Z"
   },
   {
    "duration": 10,
    "start_time": "2025-04-18T12:23:03.591Z"
   },
   {
    "duration": 78,
    "start_time": "2025-04-18T12:23:03.603Z"
   },
   {
    "duration": 2,
    "start_time": "2025-04-18T12:23:03.683Z"
   },
   {
    "duration": 39,
    "start_time": "2025-04-18T12:23:03.686Z"
   },
   {
    "duration": 3487,
    "start_time": "2025-04-18T12:23:41.378Z"
   },
   {
    "duration": 34,
    "start_time": "2025-04-18T12:23:44.867Z"
   },
   {
    "duration": 11,
    "start_time": "2025-04-18T12:23:44.903Z"
   },
   {
    "duration": 26,
    "start_time": "2025-04-18T12:23:44.916Z"
   },
   {
    "duration": 5,
    "start_time": "2025-04-18T12:23:44.944Z"
   },
   {
    "duration": 144,
    "start_time": "2025-04-18T12:23:44.951Z"
   },
   {
    "duration": 181,
    "start_time": "2025-04-18T12:23:45.097Z"
   },
   {
    "duration": 253,
    "start_time": "2025-04-18T12:23:45.280Z"
   },
   {
    "duration": 141,
    "start_time": "2025-04-18T12:23:45.536Z"
   },
   {
    "duration": 14,
    "start_time": "2025-04-18T12:23:45.680Z"
   },
   {
    "duration": 13,
    "start_time": "2025-04-18T12:23:45.696Z"
   },
   {
    "duration": 1466,
    "start_time": "2025-04-18T12:23:45.711Z"
   },
   {
    "duration": 8,
    "start_time": "2025-04-18T12:23:47.179Z"
   },
   {
    "duration": 133,
    "start_time": "2025-04-18T12:23:47.190Z"
   },
   {
    "duration": 77,
    "start_time": "2025-04-18T12:23:47.325Z"
   },
   {
    "duration": 214,
    "start_time": "2025-04-18T12:23:47.405Z"
   },
   {
    "duration": 16,
    "start_time": "2025-04-18T12:23:47.621Z"
   },
   {
    "duration": 227,
    "start_time": "2025-04-18T12:23:47.639Z"
   },
   {
    "duration": 29,
    "start_time": "2025-04-18T12:23:47.868Z"
   },
   {
    "duration": 56,
    "start_time": "2025-04-18T12:23:47.899Z"
   },
   {
    "duration": 79,
    "start_time": "2025-04-18T12:23:47.957Z"
   },
   {
    "duration": 24,
    "start_time": "2025-04-18T12:23:48.038Z"
   },
   {
    "duration": 13,
    "start_time": "2025-04-18T12:23:48.064Z"
   },
   {
    "duration": 86,
    "start_time": "2025-04-18T12:23:48.078Z"
   },
   {
    "duration": 3,
    "start_time": "2025-04-18T12:23:48.165Z"
   },
   {
    "duration": 24,
    "start_time": "2025-04-18T12:23:48.169Z"
   },
   {
    "duration": 592,
    "start_time": "2025-04-18T12:23:48.194Z"
   },
   {
    "duration": 69,
    "start_time": "2025-04-18T12:30:10.756Z"
   },
   {
    "duration": 53449,
    "start_time": "2025-04-18T12:30:18.677Z"
   },
   {
    "duration": 10197,
    "start_time": "2025-04-19T06:41:38.058Z"
   },
   {
    "duration": 35,
    "start_time": "2025-04-19T06:41:48.257Z"
   },
   {
    "duration": 13,
    "start_time": "2025-04-19T06:41:48.293Z"
   },
   {
    "duration": 29,
    "start_time": "2025-04-19T06:41:48.307Z"
   },
   {
    "duration": 5,
    "start_time": "2025-04-19T06:41:48.338Z"
   },
   {
    "duration": 111,
    "start_time": "2025-04-19T06:41:48.345Z"
   },
   {
    "duration": 97,
    "start_time": "2025-04-19T06:41:48.458Z"
   },
   {
    "duration": 271,
    "start_time": "2025-04-19T06:41:48.557Z"
   },
   {
    "duration": 156,
    "start_time": "2025-04-19T06:41:48.830Z"
   },
   {
    "duration": 20,
    "start_time": "2025-04-19T06:41:48.988Z"
   },
   {
    "duration": 32,
    "start_time": "2025-04-19T06:41:49.011Z"
   },
   {
    "duration": 1665,
    "start_time": "2025-04-19T06:41:49.045Z"
   },
   {
    "duration": 10,
    "start_time": "2025-04-19T06:41:50.712Z"
   },
   {
    "duration": 135,
    "start_time": "2025-04-19T06:41:50.738Z"
   },
   {
    "duration": 151,
    "start_time": "2025-04-19T06:41:50.874Z"
   },
   {
    "duration": 92,
    "start_time": "2025-04-19T06:41:51.027Z"
   },
   {
    "duration": 245,
    "start_time": "2025-04-19T06:41:51.138Z"
   },
   {
    "duration": 11,
    "start_time": "2025-04-19T06:41:51.384Z"
   },
   {
    "duration": 275,
    "start_time": "2025-04-19T06:41:51.397Z"
   },
   {
    "duration": 31,
    "start_time": "2025-04-19T06:41:51.674Z"
   },
   {
    "duration": 128,
    "start_time": "2025-04-19T06:41:51.708Z"
   },
   {
    "duration": 81,
    "start_time": "2025-04-19T06:41:51.839Z"
   },
   {
    "duration": 40,
    "start_time": "2025-04-19T06:41:51.922Z"
   },
   {
    "duration": 18,
    "start_time": "2025-04-19T06:41:51.964Z"
   },
   {
    "duration": 171,
    "start_time": "2025-04-19T06:41:51.983Z"
   },
   {
    "duration": 3,
    "start_time": "2025-04-19T06:41:52.156Z"
   },
   {
    "duration": 18,
    "start_time": "2025-04-19T06:41:52.161Z"
   },
   {
    "duration": 71,
    "start_time": "2025-04-19T06:41:52.181Z"
   },
   {
    "duration": 1953,
    "start_time": "2025-04-19T06:41:52.254Z"
   },
   {
    "duration": 0,
    "start_time": "2025-04-19T06:41:54.209Z"
   },
   {
    "duration": 10,
    "start_time": "2025-04-19T06:43:00.653Z"
   },
   {
    "duration": 19,
    "start_time": "2025-04-19T06:44:22.564Z"
   },
   {
    "duration": 3866,
    "start_time": "2025-04-19T06:45:57.334Z"
   },
   {
    "duration": 35,
    "start_time": "2025-04-19T06:46:01.202Z"
   },
   {
    "duration": 12,
    "start_time": "2025-04-19T06:46:01.239Z"
   },
   {
    "duration": 149,
    "start_time": "2025-04-19T06:46:01.253Z"
   },
   {
    "duration": 11,
    "start_time": "2025-04-19T06:46:01.404Z"
   },
   {
    "duration": 16,
    "start_time": "2025-04-19T06:46:01.417Z"
   },
   {
    "duration": 100,
    "start_time": "2025-04-19T06:46:01.435Z"
   },
   {
    "duration": 290,
    "start_time": "2025-04-19T06:46:01.537Z"
   },
   {
    "duration": 162,
    "start_time": "2025-04-19T06:46:01.829Z"
   },
   {
    "duration": 13,
    "start_time": "2025-04-19T06:46:01.993Z"
   },
   {
    "duration": 77,
    "start_time": "2025-04-19T06:46:02.008Z"
   },
   {
    "duration": 1550,
    "start_time": "2025-04-19T06:46:02.087Z"
   },
   {
    "duration": 8,
    "start_time": "2025-04-19T06:46:03.639Z"
   },
   {
    "duration": 141,
    "start_time": "2025-04-19T06:46:03.650Z"
   },
   {
    "duration": 121,
    "start_time": "2025-04-19T06:46:03.793Z"
   },
   {
    "duration": 0,
    "start_time": "2025-04-19T06:46:03.915Z"
   },
   {
    "duration": 0,
    "start_time": "2025-04-19T06:46:03.917Z"
   },
   {
    "duration": 0,
    "start_time": "2025-04-19T06:46:03.918Z"
   },
   {
    "duration": 0,
    "start_time": "2025-04-19T06:46:03.919Z"
   },
   {
    "duration": 0,
    "start_time": "2025-04-19T06:46:03.920Z"
   },
   {
    "duration": 0,
    "start_time": "2025-04-19T06:46:03.936Z"
   },
   {
    "duration": 0,
    "start_time": "2025-04-19T06:46:03.938Z"
   },
   {
    "duration": 0,
    "start_time": "2025-04-19T06:46:03.939Z"
   },
   {
    "duration": 0,
    "start_time": "2025-04-19T06:46:03.939Z"
   },
   {
    "duration": 0,
    "start_time": "2025-04-19T06:46:03.941Z"
   },
   {
    "duration": 0,
    "start_time": "2025-04-19T06:46:03.942Z"
   },
   {
    "duration": 0,
    "start_time": "2025-04-19T06:46:03.943Z"
   },
   {
    "duration": 0,
    "start_time": "2025-04-19T06:46:03.944Z"
   },
   {
    "duration": 0,
    "start_time": "2025-04-19T06:46:03.945Z"
   },
   {
    "duration": 0,
    "start_time": "2025-04-19T06:46:03.946Z"
   },
   {
    "duration": 0,
    "start_time": "2025-04-19T06:46:03.947Z"
   },
   {
    "duration": 19,
    "start_time": "2025-04-19T06:46:16.730Z"
   },
   {
    "duration": 17,
    "start_time": "2025-04-19T06:46:29.657Z"
   },
   {
    "duration": 18,
    "start_time": "2025-04-19T06:47:42.321Z"
   },
   {
    "duration": 14,
    "start_time": "2025-04-19T06:47:58.928Z"
   },
   {
    "duration": 11,
    "start_time": "2025-04-19T06:47:59.729Z"
   },
   {
    "duration": 3747,
    "start_time": "2025-04-19T06:48:44.552Z"
   },
   {
    "duration": 33,
    "start_time": "2025-04-19T06:48:48.301Z"
   },
   {
    "duration": 13,
    "start_time": "2025-04-19T06:48:48.336Z"
   },
   {
    "duration": 32,
    "start_time": "2025-04-19T06:48:48.351Z"
   },
   {
    "duration": 6,
    "start_time": "2025-04-19T06:48:48.385Z"
   },
   {
    "duration": 24,
    "start_time": "2025-04-19T06:48:48.393Z"
   },
   {
    "duration": 108,
    "start_time": "2025-04-19T06:48:48.419Z"
   },
   {
    "duration": 265,
    "start_time": "2025-04-19T06:48:48.529Z"
   },
   {
    "duration": 154,
    "start_time": "2025-04-19T06:48:48.795Z"
   },
   {
    "duration": 14,
    "start_time": "2025-04-19T06:48:48.953Z"
   },
   {
    "duration": 20,
    "start_time": "2025-04-19T06:48:48.969Z"
   },
   {
    "duration": 1572,
    "start_time": "2025-04-19T06:48:48.992Z"
   },
   {
    "duration": 9,
    "start_time": "2025-04-19T06:48:50.565Z"
   },
   {
    "duration": 143,
    "start_time": "2025-04-19T06:48:50.576Z"
   },
   {
    "duration": 17,
    "start_time": "2025-04-19T06:48:50.721Z"
   },
   {
    "duration": 24,
    "start_time": "2025-04-19T06:48:50.740Z"
   },
   {
    "duration": 155,
    "start_time": "2025-04-19T06:48:50.766Z"
   },
   {
    "duration": 80,
    "start_time": "2025-04-19T06:48:50.923Z"
   },
   {
    "duration": 234,
    "start_time": "2025-04-19T06:48:51.005Z"
   },
   {
    "duration": 9,
    "start_time": "2025-04-19T06:48:51.241Z"
   },
   {
    "duration": 363,
    "start_time": "2025-04-19T06:48:51.251Z"
   },
   {
    "duration": 38,
    "start_time": "2025-04-19T06:48:51.616Z"
   },
   {
    "duration": 42,
    "start_time": "2025-04-19T06:48:51.656Z"
   },
   {
    "duration": 86,
    "start_time": "2025-04-19T06:48:51.700Z"
   },
   {
    "duration": 61,
    "start_time": "2025-04-19T06:48:51.788Z"
   },
   {
    "duration": 11,
    "start_time": "2025-04-19T06:48:51.851Z"
   },
   {
    "duration": 73,
    "start_time": "2025-04-19T06:48:51.864Z"
   },
   {
    "duration": 3,
    "start_time": "2025-04-19T06:48:51.940Z"
   },
   {
    "duration": 50,
    "start_time": "2025-04-19T06:48:51.944Z"
   },
   {
    "duration": 76,
    "start_time": "2025-04-19T06:48:51.995Z"
   },
   {
    "duration": 1682,
    "start_time": "2025-04-19T06:48:52.073Z"
   },
   {
    "duration": 0,
    "start_time": "2025-04-19T06:48:53.757Z"
   },
   {
    "duration": 13,
    "start_time": "2025-04-19T06:49:03.021Z"
   },
   {
    "duration": 9,
    "start_time": "2025-04-19T06:49:03.900Z"
   },
   {
    "duration": 136,
    "start_time": "2025-04-19T06:49:07.005Z"
   },
   {
    "duration": 151,
    "start_time": "2025-04-19T06:49:11.687Z"
   },
   {
    "duration": 211,
    "start_time": "2025-04-19T06:49:13.309Z"
   },
   {
    "duration": 10,
    "start_time": "2025-04-19T06:50:26.570Z"
   },
   {
    "duration": 194,
    "start_time": "2025-04-19T06:50:28.180Z"
   },
   {
    "duration": 31,
    "start_time": "2025-04-19T06:50:30.643Z"
   },
   {
    "duration": 38,
    "start_time": "2025-04-19T06:50:33.603Z"
   },
   {
    "duration": 73,
    "start_time": "2025-04-19T06:50:34.964Z"
   },
   {
    "duration": 63,
    "start_time": "2025-04-19T06:59:02.429Z"
   },
   {
    "duration": 11,
    "start_time": "2025-04-19T06:59:30.486Z"
   },
   {
    "duration": 30,
    "start_time": "2025-04-19T07:01:53.984Z"
   },
   {
    "duration": 42,
    "start_time": "2025-04-19T07:02:11.833Z"
   },
   {
    "duration": 51,
    "start_time": "2025-04-19T07:02:41.618Z"
   },
   {
    "duration": 41,
    "start_time": "2025-04-19T07:03:30.449Z"
   },
   {
    "duration": 94,
    "start_time": "2025-04-19T07:07:19.432Z"
   },
   {
    "duration": 12,
    "start_time": "2025-04-19T07:16:59.305Z"
   },
   {
    "duration": 2541,
    "start_time": "2025-04-19T07:18:04.418Z"
   },
   {
    "duration": 16,
    "start_time": "2025-04-19T07:18:14.914Z"
   },
   {
    "duration": 143,
    "start_time": "2025-04-19T07:21:59.678Z"
   },
   {
    "duration": 32,
    "start_time": "2025-04-19T07:24:40.189Z"
   },
   {
    "duration": 24,
    "start_time": "2025-04-19T07:26:22.356Z"
   },
   {
    "duration": 136,
    "start_time": "2025-04-19T07:26:59.900Z"
   },
   {
    "duration": 14,
    "start_time": "2025-04-19T07:27:22.027Z"
   },
   {
    "duration": 16,
    "start_time": "2025-04-19T07:27:42.513Z"
   },
   {
    "duration": 137,
    "start_time": "2025-04-19T07:27:58.267Z"
   },
   {
    "duration": 1102,
    "start_time": "2025-04-19T07:28:49.474Z"
   },
   {
    "duration": 996,
    "start_time": "2025-04-19T07:28:58.658Z"
   },
   {
    "duration": 19,
    "start_time": "2025-04-19T07:31:05.614Z"
   },
   {
    "duration": 21,
    "start_time": "2025-04-19T07:32:40.312Z"
   },
   {
    "duration": 399,
    "start_time": "2025-04-19T07:32:43.856Z"
   },
   {
    "duration": 316,
    "start_time": "2025-04-19T07:33:58.103Z"
   },
   {
    "duration": 383,
    "start_time": "2025-04-19T07:34:54.062Z"
   },
   {
    "duration": 297,
    "start_time": "2025-04-19T07:35:00.142Z"
   },
   {
    "duration": 1027,
    "start_time": "2025-04-19T07:53:19.789Z"
   },
   {
    "duration": 13,
    "start_time": "2025-04-19T07:55:00.765Z"
   },
   {
    "duration": 12,
    "start_time": "2025-04-19T07:55:42.403Z"
   },
   {
    "duration": 13,
    "start_time": "2025-04-19T07:55:54.299Z"
   },
   {
    "duration": 164,
    "start_time": "2025-04-19T08:03:45.628Z"
   },
   {
    "duration": 11,
    "start_time": "2025-04-19T08:04:13.188Z"
   },
   {
    "duration": 13,
    "start_time": "2025-04-19T08:05:48.098Z"
   },
   {
    "duration": 50,
    "start_time": "2025-04-19T08:06:50.914Z"
   },
   {
    "duration": 6,
    "start_time": "2025-04-19T08:07:33.056Z"
   },
   {
    "duration": 35,
    "start_time": "2025-04-19T08:08:27.490Z"
   },
   {
    "duration": 71,
    "start_time": "2025-04-19T08:09:44.303Z"
   },
   {
    "duration": 27,
    "start_time": "2025-04-19T08:10:21.822Z"
   },
   {
    "duration": 28,
    "start_time": "2025-04-19T08:10:37.037Z"
   },
   {
    "duration": 5,
    "start_time": "2025-04-19T08:11:16.333Z"
   },
   {
    "duration": 22,
    "start_time": "2025-04-19T08:11:24.605Z"
   },
   {
    "duration": 27,
    "start_time": "2025-04-19T08:12:39.683Z"
   },
   {
    "duration": 8,
    "start_time": "2025-04-19T08:13:10.972Z"
   },
   {
    "duration": 11,
    "start_time": "2025-04-19T08:13:29.059Z"
   },
   {
    "duration": 8,
    "start_time": "2025-04-19T08:14:08.690Z"
   },
   {
    "duration": 14,
    "start_time": "2025-04-19T08:16:00.240Z"
   },
   {
    "duration": 17,
    "start_time": "2025-04-19T08:16:26.319Z"
   },
   {
    "duration": 42,
    "start_time": "2025-04-19T08:17:22.462Z"
   },
   {
    "duration": 48,
    "start_time": "2025-04-19T08:17:29.397Z"
   },
   {
    "duration": 49,
    "start_time": "2025-04-19T08:18:00.423Z"
   },
   {
    "duration": 50,
    "start_time": "2025-04-19T08:18:11.956Z"
   },
   {
    "duration": 52,
    "start_time": "2025-04-19T08:18:26.788Z"
   },
   {
    "duration": 48,
    "start_time": "2025-04-19T08:18:30.564Z"
   },
   {
    "duration": 49,
    "start_time": "2025-04-19T08:19:31.947Z"
   },
   {
    "duration": 3,
    "start_time": "2025-04-19T08:21:32.144Z"
   },
   {
    "duration": 3,
    "start_time": "2025-04-19T08:21:41.049Z"
   },
   {
    "duration": 5,
    "start_time": "2025-04-19T08:27:59.110Z"
   },
   {
    "duration": 3846,
    "start_time": "2025-04-19T08:40:30.771Z"
   },
   {
    "duration": 46,
    "start_time": "2025-04-19T08:40:34.620Z"
   },
   {
    "duration": 12,
    "start_time": "2025-04-19T08:40:34.667Z"
   },
   {
    "duration": 86,
    "start_time": "2025-04-19T08:40:34.681Z"
   },
   {
    "duration": 5,
    "start_time": "2025-04-19T08:40:34.769Z"
   },
   {
    "duration": 27,
    "start_time": "2025-04-19T08:40:34.776Z"
   },
   {
    "duration": 90,
    "start_time": "2025-04-19T08:40:34.805Z"
   },
   {
    "duration": 283,
    "start_time": "2025-04-19T08:40:34.897Z"
   },
   {
    "duration": 156,
    "start_time": "2025-04-19T08:40:35.182Z"
   },
   {
    "duration": 12,
    "start_time": "2025-04-19T08:40:35.340Z"
   },
   {
    "duration": 10,
    "start_time": "2025-04-19T08:40:35.354Z"
   },
   {
    "duration": 1709,
    "start_time": "2025-04-19T08:40:35.366Z"
   },
   {
    "duration": 9,
    "start_time": "2025-04-19T08:40:37.076Z"
   },
   {
    "duration": 154,
    "start_time": "2025-04-19T08:40:37.088Z"
   },
   {
    "duration": 19,
    "start_time": "2025-04-19T08:40:37.244Z"
   },
   {
    "duration": 143,
    "start_time": "2025-04-19T08:40:37.264Z"
   },
   {
    "duration": 83,
    "start_time": "2025-04-19T08:40:37.409Z"
   },
   {
    "duration": 229,
    "start_time": "2025-04-19T08:40:37.494Z"
   },
   {
    "duration": 66,
    "start_time": "2025-04-19T08:40:37.725Z"
   },
   {
    "duration": 35,
    "start_time": "2025-04-19T08:40:37.793Z"
   },
   {
    "duration": 249,
    "start_time": "2025-04-19T08:40:37.830Z"
   },
   {
    "duration": 30,
    "start_time": "2025-04-19T08:40:38.081Z"
   },
   {
    "duration": 58,
    "start_time": "2025-04-19T08:40:38.113Z"
   },
   {
    "duration": 82,
    "start_time": "2025-04-19T08:40:38.173Z"
   },
   {
    "duration": 12,
    "start_time": "2025-04-19T08:40:38.257Z"
   },
   {
    "duration": 92,
    "start_time": "2025-04-19T08:40:38.270Z"
   },
   {
    "duration": 56,
    "start_time": "2025-04-19T08:40:38.363Z"
   },
   {
    "duration": 17,
    "start_time": "2025-04-19T08:40:38.421Z"
   },
   {
    "duration": 227,
    "start_time": "2025-04-19T08:40:38.440Z"
   },
   {
    "duration": 20,
    "start_time": "2025-04-19T08:40:38.669Z"
   },
   {
    "duration": 362,
    "start_time": "2025-04-19T08:40:38.691Z"
   },
   {
    "duration": 14,
    "start_time": "2025-04-19T08:40:39.054Z"
   },
   {
    "duration": 121,
    "start_time": "2025-04-19T08:40:39.070Z"
   },
   {
    "duration": 0,
    "start_time": "2025-04-19T08:40:39.193Z"
   },
   {
    "duration": 51,
    "start_time": "2025-04-19T08:46:11.499Z"
   },
   {
    "duration": 4,
    "start_time": "2025-04-19T08:46:15.619Z"
   },
   {
    "duration": 3835,
    "start_time": "2025-04-19T08:46:27.050Z"
   },
   {
    "duration": 46,
    "start_time": "2025-04-19T08:46:30.888Z"
   },
   {
    "duration": 13,
    "start_time": "2025-04-19T08:46:30.935Z"
   },
   {
    "duration": 51,
    "start_time": "2025-04-19T08:46:30.950Z"
   },
   {
    "duration": 26,
    "start_time": "2025-04-19T08:46:31.003Z"
   },
   {
    "duration": 44,
    "start_time": "2025-04-19T08:46:31.030Z"
   },
   {
    "duration": 141,
    "start_time": "2025-04-19T08:46:31.076Z"
   },
   {
    "duration": 272,
    "start_time": "2025-04-19T08:46:31.219Z"
   },
   {
    "duration": 157,
    "start_time": "2025-04-19T08:46:31.492Z"
   },
   {
    "duration": 13,
    "start_time": "2025-04-19T08:46:31.651Z"
   },
   {
    "duration": 80,
    "start_time": "2025-04-19T08:46:31.666Z"
   },
   {
    "duration": 1584,
    "start_time": "2025-04-19T08:46:31.748Z"
   },
   {
    "duration": 9,
    "start_time": "2025-04-19T08:46:33.337Z"
   },
   {
    "duration": 157,
    "start_time": "2025-04-19T08:46:33.348Z"
   },
   {
    "duration": 20,
    "start_time": "2025-04-19T08:46:33.507Z"
   },
   {
    "duration": 134,
    "start_time": "2025-04-19T08:46:33.537Z"
   },
   {
    "duration": 91,
    "start_time": "2025-04-19T08:46:33.674Z"
   },
   {
    "duration": 227,
    "start_time": "2025-04-19T08:46:33.767Z"
   },
   {
    "duration": 73,
    "start_time": "2025-04-19T08:46:33.996Z"
   },
   {
    "duration": 10,
    "start_time": "2025-04-19T08:46:34.071Z"
   },
   {
    "duration": 258,
    "start_time": "2025-04-19T08:46:34.082Z"
   },
   {
    "duration": 30,
    "start_time": "2025-04-19T08:46:34.341Z"
   },
   {
    "duration": 77,
    "start_time": "2025-04-19T08:46:34.372Z"
   },
   {
    "duration": 72,
    "start_time": "2025-04-19T08:46:34.450Z"
   },
   {
    "duration": 11,
    "start_time": "2025-04-19T08:46:34.536Z"
   },
   {
    "duration": 33,
    "start_time": "2025-04-19T08:46:34.548Z"
   },
   {
    "duration": 64,
    "start_time": "2025-04-19T08:46:34.582Z"
   },
   {
    "duration": 15,
    "start_time": "2025-04-19T08:46:34.650Z"
   },
   {
    "duration": 287,
    "start_time": "2025-04-19T08:46:34.667Z"
   },
   {
    "duration": 19,
    "start_time": "2025-04-19T08:46:34.956Z"
   },
   {
    "duration": 361,
    "start_time": "2025-04-19T08:46:34.977Z"
   },
   {
    "duration": 13,
    "start_time": "2025-04-19T08:46:35.339Z"
   },
   {
    "duration": 76,
    "start_time": "2025-04-19T08:46:35.354Z"
   },
   {
    "duration": 4,
    "start_time": "2025-04-19T08:46:35.432Z"
   },
   {
    "duration": 20,
    "start_time": "2025-04-19T08:47:27.870Z"
   },
   {
    "duration": 14981,
    "start_time": "2025-04-19T09:55:12.446Z"
   },
   {
    "duration": 0,
    "start_time": "2025-04-19T09:55:27.430Z"
   },
   {
    "duration": 0,
    "start_time": "2025-04-19T09:55:27.431Z"
   },
   {
    "duration": 0,
    "start_time": "2025-04-19T09:55:27.433Z"
   },
   {
    "duration": 0,
    "start_time": "2025-04-19T09:55:27.434Z"
   },
   {
    "duration": 0,
    "start_time": "2025-04-19T09:55:27.435Z"
   },
   {
    "duration": 0,
    "start_time": "2025-04-19T09:55:27.436Z"
   },
   {
    "duration": 0,
    "start_time": "2025-04-19T09:55:27.437Z"
   },
   {
    "duration": 0,
    "start_time": "2025-04-19T09:55:27.439Z"
   },
   {
    "duration": 0,
    "start_time": "2025-04-19T09:55:27.440Z"
   },
   {
    "duration": 0,
    "start_time": "2025-04-19T09:55:27.441Z"
   },
   {
    "duration": 0,
    "start_time": "2025-04-19T09:55:27.443Z"
   },
   {
    "duration": 0,
    "start_time": "2025-04-19T09:55:27.444Z"
   },
   {
    "duration": 0,
    "start_time": "2025-04-19T09:55:27.445Z"
   },
   {
    "duration": 0,
    "start_time": "2025-04-19T09:55:27.446Z"
   },
   {
    "duration": 0,
    "start_time": "2025-04-19T09:55:27.447Z"
   },
   {
    "duration": 0,
    "start_time": "2025-04-19T09:55:27.449Z"
   },
   {
    "duration": 0,
    "start_time": "2025-04-19T09:55:27.450Z"
   },
   {
    "duration": 0,
    "start_time": "2025-04-19T09:55:27.452Z"
   },
   {
    "duration": 0,
    "start_time": "2025-04-19T09:55:27.454Z"
   },
   {
    "duration": 0,
    "start_time": "2025-04-19T09:55:27.457Z"
   },
   {
    "duration": 0,
    "start_time": "2025-04-19T09:55:27.459Z"
   },
   {
    "duration": 0,
    "start_time": "2025-04-19T09:55:27.505Z"
   },
   {
    "duration": 0,
    "start_time": "2025-04-19T09:55:27.507Z"
   },
   {
    "duration": 0,
    "start_time": "2025-04-19T09:55:27.510Z"
   },
   {
    "duration": 0,
    "start_time": "2025-04-19T09:55:27.513Z"
   },
   {
    "duration": 0,
    "start_time": "2025-04-19T09:55:27.514Z"
   },
   {
    "duration": 0,
    "start_time": "2025-04-19T09:55:27.516Z"
   },
   {
    "duration": 0,
    "start_time": "2025-04-19T09:55:27.521Z"
   },
   {
    "duration": 0,
    "start_time": "2025-04-19T09:55:27.522Z"
   },
   {
    "duration": 0,
    "start_time": "2025-04-19T09:55:27.526Z"
   },
   {
    "duration": 0,
    "start_time": "2025-04-19T09:55:27.527Z"
   },
   {
    "duration": 0,
    "start_time": "2025-04-19T09:55:27.528Z"
   },
   {
    "duration": 0,
    "start_time": "2025-04-19T09:55:27.529Z"
   },
   {
    "duration": 2456,
    "start_time": "2025-04-19T10:34:21.789Z"
   },
   {
    "duration": 3700,
    "start_time": "2025-04-19T10:34:42.206Z"
   },
   {
    "duration": 45,
    "start_time": "2025-04-19T10:34:45.908Z"
   },
   {
    "duration": 13,
    "start_time": "2025-04-19T10:34:45.954Z"
   },
   {
    "duration": 23,
    "start_time": "2025-04-19T10:34:45.969Z"
   },
   {
    "duration": 5,
    "start_time": "2025-04-19T10:34:45.993Z"
   },
   {
    "duration": 9,
    "start_time": "2025-04-19T10:34:45.999Z"
   },
   {
    "duration": 111,
    "start_time": "2025-04-19T10:34:46.010Z"
   },
   {
    "duration": 277,
    "start_time": "2025-04-19T10:34:46.123Z"
   },
   {
    "duration": 148,
    "start_time": "2025-04-19T10:34:46.401Z"
   },
   {
    "duration": 12,
    "start_time": "2025-04-19T10:34:46.552Z"
   },
   {
    "duration": 14,
    "start_time": "2025-04-19T10:34:46.566Z"
   },
   {
    "duration": 1524,
    "start_time": "2025-04-19T10:34:46.581Z"
   },
   {
    "duration": 9,
    "start_time": "2025-04-19T10:34:48.107Z"
   },
   {
    "duration": 138,
    "start_time": "2025-04-19T10:34:48.118Z"
   },
   {
    "duration": 18,
    "start_time": "2025-04-19T10:34:48.258Z"
   },
   {
    "duration": 173,
    "start_time": "2025-04-19T10:34:48.278Z"
   },
   {
    "duration": 72,
    "start_time": "2025-04-19T10:34:48.453Z"
   },
   {
    "duration": 220,
    "start_time": "2025-04-19T10:34:48.536Z"
   },
   {
    "duration": 57,
    "start_time": "2025-04-19T10:34:48.757Z"
   },
   {
    "duration": 33,
    "start_time": "2025-04-19T10:34:48.815Z"
   },
   {
    "duration": 263,
    "start_time": "2025-04-19T10:34:48.849Z"
   },
   {
    "duration": 37,
    "start_time": "2025-04-19T10:34:49.113Z"
   },
   {
    "duration": 39,
    "start_time": "2025-04-19T10:34:49.152Z"
   },
   {
    "duration": 89,
    "start_time": "2025-04-19T10:34:49.193Z"
   },
   {
    "duration": 11,
    "start_time": "2025-04-19T10:34:49.283Z"
   },
   {
    "duration": 69,
    "start_time": "2025-04-19T10:34:49.296Z"
   },
   {
    "duration": 66,
    "start_time": "2025-04-19T10:34:49.366Z"
   },
   {
    "duration": 20,
    "start_time": "2025-04-19T10:34:49.435Z"
   },
   {
    "duration": 311,
    "start_time": "2025-04-19T10:34:49.457Z"
   },
   {
    "duration": 21,
    "start_time": "2025-04-19T10:34:49.770Z"
   },
   {
    "duration": 329,
    "start_time": "2025-04-19T10:34:49.792Z"
   },
   {
    "duration": 22,
    "start_time": "2025-04-19T10:34:50.123Z"
   },
   {
    "duration": 93,
    "start_time": "2025-04-19T10:34:50.147Z"
   },
   {
    "duration": 111,
    "start_time": "2025-04-19T10:34:50.241Z"
   },
   {
    "duration": 2418,
    "start_time": "2025-04-19T10:43:28.698Z"
   },
   {
    "duration": 48,
    "start_time": "2025-04-19T10:43:31.118Z"
   },
   {
    "duration": 12,
    "start_time": "2025-04-19T10:43:31.168Z"
   },
   {
    "duration": 31,
    "start_time": "2025-04-19T10:43:31.182Z"
   },
   {
    "duration": 4,
    "start_time": "2025-04-19T10:43:31.215Z"
   },
   {
    "duration": 13,
    "start_time": "2025-04-19T10:43:31.220Z"
   },
   {
    "duration": 104,
    "start_time": "2025-04-19T10:43:31.236Z"
   },
   {
    "duration": 434,
    "start_time": "2025-04-19T10:43:31.342Z"
   },
   {
    "duration": 300,
    "start_time": "2025-04-19T10:43:31.777Z"
   },
   {
    "duration": 66,
    "start_time": "2025-04-19T10:43:32.079Z"
   },
   {
    "duration": 10,
    "start_time": "2025-04-19T10:43:32.147Z"
   },
   {
    "duration": 1671,
    "start_time": "2025-04-19T10:43:32.159Z"
   },
   {
    "duration": 9,
    "start_time": "2025-04-19T10:43:33.832Z"
   },
   {
    "duration": 127,
    "start_time": "2025-04-19T10:43:33.843Z"
   },
   {
    "duration": 17,
    "start_time": "2025-04-19T10:43:33.972Z"
   },
   {
    "duration": 136,
    "start_time": "2025-04-19T10:43:33.991Z"
   },
   {
    "duration": 78,
    "start_time": "2025-04-19T10:43:34.129Z"
   },
   {
    "duration": 246,
    "start_time": "2025-04-19T10:43:34.209Z"
   },
   {
    "duration": 59,
    "start_time": "2025-04-19T10:43:34.456Z"
   },
   {
    "duration": 26,
    "start_time": "2025-04-19T10:43:34.517Z"
   },
   {
    "duration": 241,
    "start_time": "2025-04-19T10:43:34.545Z"
   },
   {
    "duration": 28,
    "start_time": "2025-04-19T10:43:34.788Z"
   },
   {
    "duration": 107,
    "start_time": "2025-04-19T10:43:34.818Z"
   },
   {
    "duration": 67,
    "start_time": "2025-04-19T10:43:34.926Z"
   },
   {
    "duration": 12,
    "start_time": "2025-04-19T10:43:34.995Z"
   },
   {
    "duration": 33,
    "start_time": "2025-04-19T10:43:35.009Z"
   },
   {
    "duration": 64,
    "start_time": "2025-04-19T10:43:35.044Z"
   },
   {
    "duration": 15,
    "start_time": "2025-04-19T10:43:35.112Z"
   },
   {
    "duration": 218,
    "start_time": "2025-04-19T10:43:35.128Z"
   },
   {
    "duration": 21,
    "start_time": "2025-04-19T10:43:35.347Z"
   },
   {
    "duration": 392,
    "start_time": "2025-04-19T10:43:35.369Z"
   },
   {
    "duration": 14,
    "start_time": "2025-04-19T10:43:35.762Z"
   },
   {
    "duration": 70,
    "start_time": "2025-04-19T10:43:35.778Z"
   },
   {
    "duration": 3,
    "start_time": "2025-04-19T10:43:35.850Z"
   },
   {
    "duration": 3747,
    "start_time": "2025-04-19T10:44:33.134Z"
   },
   {
    "duration": 34,
    "start_time": "2025-04-19T10:44:36.883Z"
   },
   {
    "duration": 46,
    "start_time": "2025-04-19T10:44:36.918Z"
   },
   {
    "duration": 70,
    "start_time": "2025-04-19T10:44:36.965Z"
   },
   {
    "duration": 4,
    "start_time": "2025-04-19T10:44:37.037Z"
   },
   {
    "duration": 34,
    "start_time": "2025-04-19T10:44:37.042Z"
   },
   {
    "duration": 113,
    "start_time": "2025-04-19T10:44:37.078Z"
   },
   {
    "duration": 271,
    "start_time": "2025-04-19T10:44:37.193Z"
   },
   {
    "duration": 146,
    "start_time": "2025-04-19T10:44:37.466Z"
   },
   {
    "duration": 23,
    "start_time": "2025-04-19T10:44:37.613Z"
   },
   {
    "duration": 9,
    "start_time": "2025-04-19T10:44:37.638Z"
   },
   {
    "duration": 1498,
    "start_time": "2025-04-19T10:44:37.648Z"
   },
   {
    "duration": 9,
    "start_time": "2025-04-19T10:44:39.147Z"
   },
   {
    "duration": 134,
    "start_time": "2025-04-19T10:44:39.158Z"
   },
   {
    "duration": 18,
    "start_time": "2025-04-19T10:44:39.293Z"
   },
   {
    "duration": 141,
    "start_time": "2025-04-19T10:44:39.312Z"
   },
   {
    "duration": 74,
    "start_time": "2025-04-19T10:44:39.454Z"
   },
   {
    "duration": 249,
    "start_time": "2025-04-19T10:44:39.537Z"
   },
   {
    "duration": 61,
    "start_time": "2025-04-19T10:44:39.787Z"
   },
   {
    "duration": 8,
    "start_time": "2025-04-19T10:44:39.850Z"
   },
   {
    "duration": 240,
    "start_time": "2025-04-19T10:44:39.860Z"
   },
   {
    "duration": 37,
    "start_time": "2025-04-19T10:44:40.102Z"
   },
   {
    "duration": 36,
    "start_time": "2025-04-19T10:44:40.140Z"
   },
   {
    "duration": 82,
    "start_time": "2025-04-19T10:44:40.178Z"
   },
   {
    "duration": 12,
    "start_time": "2025-04-19T10:44:40.261Z"
   },
   {
    "duration": 101,
    "start_time": "2025-04-19T10:44:40.274Z"
   },
   {
    "duration": 43,
    "start_time": "2025-04-19T10:44:40.377Z"
   },
   {
    "duration": 14,
    "start_time": "2025-04-19T10:44:40.421Z"
   },
   {
    "duration": 211,
    "start_time": "2025-04-19T10:44:40.437Z"
   },
   {
    "duration": 20,
    "start_time": "2025-04-19T10:44:40.649Z"
   },
   {
    "duration": 360,
    "start_time": "2025-04-19T10:44:40.671Z"
   },
   {
    "duration": 14,
    "start_time": "2025-04-19T10:44:41.037Z"
   },
   {
    "duration": 49,
    "start_time": "2025-04-19T10:44:41.053Z"
   },
   {
    "duration": 3,
    "start_time": "2025-04-19T10:44:41.104Z"
   },
   {
    "duration": 2501,
    "start_time": "2025-04-19T10:55:35.092Z"
   },
   {
    "duration": 38,
    "start_time": "2025-04-19T10:55:37.596Z"
   },
   {
    "duration": 12,
    "start_time": "2025-04-19T10:55:37.636Z"
   },
   {
    "duration": 34,
    "start_time": "2025-04-19T10:55:37.651Z"
   },
   {
    "duration": 5,
    "start_time": "2025-04-19T10:55:37.688Z"
   },
   {
    "duration": 26,
    "start_time": "2025-04-19T10:55:37.694Z"
   },
   {
    "duration": 108,
    "start_time": "2025-04-19T10:55:37.722Z"
   },
   {
    "duration": 269,
    "start_time": "2025-04-19T10:55:37.832Z"
   },
   {
    "duration": 150,
    "start_time": "2025-04-19T10:55:38.103Z"
   },
   {
    "duration": 13,
    "start_time": "2025-04-19T10:55:38.255Z"
   },
   {
    "duration": 10,
    "start_time": "2025-04-19T10:55:38.269Z"
   },
   {
    "duration": 1623,
    "start_time": "2025-04-19T10:55:38.281Z"
   },
   {
    "duration": 8,
    "start_time": "2025-04-19T10:55:39.906Z"
   },
   {
    "duration": 132,
    "start_time": "2025-04-19T10:55:39.917Z"
   },
   {
    "duration": 18,
    "start_time": "2025-04-19T10:55:40.051Z"
   },
   {
    "duration": 203,
    "start_time": "2025-04-19T10:55:40.071Z"
   },
   {
    "duration": 78,
    "start_time": "2025-04-19T10:55:40.276Z"
   },
   {
    "duration": 222,
    "start_time": "2025-04-19T10:55:40.357Z"
   },
   {
    "duration": 67,
    "start_time": "2025-04-19T10:55:40.581Z"
   },
   {
    "duration": 8,
    "start_time": "2025-04-19T10:55:40.650Z"
   },
   {
    "duration": 240,
    "start_time": "2025-04-19T10:55:40.660Z"
   },
   {
    "duration": 37,
    "start_time": "2025-04-19T10:55:40.902Z"
   },
   {
    "duration": 51,
    "start_time": "2025-04-19T10:55:40.941Z"
   },
   {
    "duration": 72,
    "start_time": "2025-04-19T10:55:40.994Z"
   },
   {
    "duration": 11,
    "start_time": "2025-04-19T10:55:41.068Z"
   },
   {
    "duration": 26,
    "start_time": "2025-04-19T10:55:41.081Z"
   },
   {
    "duration": 49,
    "start_time": "2025-04-19T10:55:41.108Z"
   },
   {
    "duration": 15,
    "start_time": "2025-04-19T10:55:41.159Z"
   },
   {
    "duration": 235,
    "start_time": "2025-04-19T10:55:41.175Z"
   },
   {
    "duration": 28,
    "start_time": "2025-04-19T10:55:41.412Z"
   },
   {
    "duration": 374,
    "start_time": "2025-04-19T10:55:41.442Z"
   },
   {
    "duration": 20,
    "start_time": "2025-04-19T10:55:41.817Z"
   },
   {
    "duration": 48,
    "start_time": "2025-04-19T10:55:41.838Z"
   },
   {
    "duration": 3,
    "start_time": "2025-04-19T10:55:41.888Z"
   },
   {
    "duration": 2416,
    "start_time": "2025-04-19T10:56:49.351Z"
   },
   {
    "duration": 3657,
    "start_time": "2025-04-19T10:58:39.715Z"
   },
   {
    "duration": 46,
    "start_time": "2025-04-19T10:58:43.374Z"
   },
   {
    "duration": 12,
    "start_time": "2025-04-19T10:58:43.421Z"
   },
   {
    "duration": 23,
    "start_time": "2025-04-19T10:58:43.434Z"
   },
   {
    "duration": 4,
    "start_time": "2025-04-19T10:58:43.460Z"
   },
   {
    "duration": 14,
    "start_time": "2025-04-19T10:58:43.465Z"
   },
   {
    "duration": 98,
    "start_time": "2025-04-19T10:58:43.481Z"
   },
   {
    "duration": 271,
    "start_time": "2025-04-19T10:58:43.581Z"
   },
   {
    "duration": 155,
    "start_time": "2025-04-19T10:58:43.854Z"
   },
   {
    "duration": 13,
    "start_time": "2025-04-19T10:58:44.011Z"
   },
   {
    "duration": 11,
    "start_time": "2025-04-19T10:58:44.036Z"
   },
   {
    "duration": 1576,
    "start_time": "2025-04-19T10:58:44.048Z"
   },
   {
    "duration": 13,
    "start_time": "2025-04-19T10:58:45.625Z"
   },
   {
    "duration": 126,
    "start_time": "2025-04-19T10:58:45.641Z"
   },
   {
    "duration": 17,
    "start_time": "2025-04-19T10:58:45.769Z"
   },
   {
    "duration": 141,
    "start_time": "2025-04-19T10:58:45.788Z"
   },
   {
    "duration": 73,
    "start_time": "2025-04-19T10:58:45.936Z"
   },
   {
    "duration": 231,
    "start_time": "2025-04-19T10:58:46.012Z"
   },
   {
    "duration": 60,
    "start_time": "2025-04-19T10:58:46.245Z"
   },
   {
    "duration": 9,
    "start_time": "2025-04-19T10:58:46.307Z"
   },
   {
    "duration": 285,
    "start_time": "2025-04-19T10:58:46.337Z"
   },
   {
    "duration": 35,
    "start_time": "2025-04-19T10:58:46.624Z"
   },
   {
    "duration": 40,
    "start_time": "2025-04-19T10:58:46.660Z"
   },
   {
    "duration": 90,
    "start_time": "2025-04-19T10:58:46.701Z"
   },
   {
    "duration": 11,
    "start_time": "2025-04-19T10:58:46.793Z"
   },
   {
    "duration": 13,
    "start_time": "2025-04-19T10:58:46.806Z"
   },
   {
    "duration": 54,
    "start_time": "2025-04-19T10:58:46.821Z"
   },
   {
    "duration": 16,
    "start_time": "2025-04-19T10:58:46.877Z"
   },
   {
    "duration": 246,
    "start_time": "2025-04-19T10:58:46.895Z"
   },
   {
    "duration": 21,
    "start_time": "2025-04-19T10:58:47.143Z"
   },
   {
    "duration": 343,
    "start_time": "2025-04-19T10:58:47.166Z"
   },
   {
    "duration": 26,
    "start_time": "2025-04-19T10:58:47.511Z"
   },
   {
    "duration": 54,
    "start_time": "2025-04-19T10:58:47.539Z"
   },
   {
    "duration": 62,
    "start_time": "2025-04-19T10:58:47.596Z"
   },
   {
    "duration": 3741,
    "start_time": "2025-04-19T11:15:26.314Z"
   },
   {
    "duration": 35,
    "start_time": "2025-04-19T11:15:30.057Z"
   },
   {
    "duration": 12,
    "start_time": "2025-04-19T11:15:30.094Z"
   },
   {
    "duration": 86,
    "start_time": "2025-04-19T11:15:30.108Z"
   },
   {
    "duration": 72,
    "start_time": "2025-04-19T11:15:30.195Z"
   },
   {
    "duration": 29,
    "start_time": "2025-04-19T11:15:30.269Z"
   },
   {
    "duration": 116,
    "start_time": "2025-04-19T11:15:30.300Z"
   },
   {
    "duration": 275,
    "start_time": "2025-04-19T11:15:30.418Z"
   },
   {
    "duration": 156,
    "start_time": "2025-04-19T11:15:30.695Z"
   },
   {
    "duration": 13,
    "start_time": "2025-04-19T11:15:30.855Z"
   },
   {
    "duration": 21,
    "start_time": "2025-04-19T11:15:30.870Z"
   },
   {
    "duration": 1558,
    "start_time": "2025-04-19T11:15:30.893Z"
   },
   {
    "duration": 10,
    "start_time": "2025-04-19T11:15:32.452Z"
   },
   {
    "duration": 207,
    "start_time": "2025-04-19T11:15:32.463Z"
   },
   {
    "duration": 18,
    "start_time": "2025-04-19T11:15:32.673Z"
   },
   {
    "duration": 164,
    "start_time": "2025-04-19T11:15:32.693Z"
   },
   {
    "duration": 80,
    "start_time": "2025-04-19T11:15:32.859Z"
   },
   {
    "duration": 235,
    "start_time": "2025-04-19T11:15:32.941Z"
   },
   {
    "duration": 75,
    "start_time": "2025-04-19T11:15:33.179Z"
   },
   {
    "duration": 9,
    "start_time": "2025-04-19T11:15:33.256Z"
   },
   {
    "duration": 264,
    "start_time": "2025-04-19T11:15:33.267Z"
   },
   {
    "duration": 40,
    "start_time": "2025-04-19T11:15:33.533Z"
   },
   {
    "duration": 82,
    "start_time": "2025-04-19T11:15:33.576Z"
   },
   {
    "duration": 167,
    "start_time": "2025-04-19T11:15:33.660Z"
   },
   {
    "duration": 12,
    "start_time": "2025-04-19T11:15:33.828Z"
   },
   {
    "duration": 43,
    "start_time": "2025-04-19T11:15:33.841Z"
   },
   {
    "duration": 63,
    "start_time": "2025-04-19T11:15:33.886Z"
   },
   {
    "duration": 16,
    "start_time": "2025-04-19T11:15:33.952Z"
   },
   {
    "duration": 233,
    "start_time": "2025-04-19T11:15:33.970Z"
   },
   {
    "duration": 33,
    "start_time": "2025-04-19T11:15:34.205Z"
   },
   {
    "duration": 322,
    "start_time": "2025-04-19T11:15:34.241Z"
   },
   {
    "duration": 13,
    "start_time": "2025-04-19T11:15:34.565Z"
   },
   {
    "duration": 64,
    "start_time": "2025-04-19T11:15:34.579Z"
   },
   {
    "duration": 4,
    "start_time": "2025-04-19T11:15:34.645Z"
   },
   {
    "duration": 3676,
    "start_time": "2025-04-19T11:24:47.377Z"
   },
   {
    "duration": 33,
    "start_time": "2025-04-19T11:24:51.055Z"
   },
   {
    "duration": 12,
    "start_time": "2025-04-19T11:24:51.090Z"
   },
   {
    "duration": 36,
    "start_time": "2025-04-19T11:24:51.104Z"
   },
   {
    "duration": 19,
    "start_time": "2025-04-19T11:24:51.142Z"
   },
   {
    "duration": 52,
    "start_time": "2025-04-19T11:24:51.163Z"
   },
   {
    "duration": 105,
    "start_time": "2025-04-19T11:24:51.217Z"
   },
   {
    "duration": 262,
    "start_time": "2025-04-19T11:24:51.325Z"
   },
   {
    "duration": 152,
    "start_time": "2025-04-19T11:24:51.589Z"
   },
   {
    "duration": 11,
    "start_time": "2025-04-19T11:24:51.743Z"
   },
   {
    "duration": 43,
    "start_time": "2025-04-19T11:24:51.756Z"
   },
   {
    "duration": 1599,
    "start_time": "2025-04-19T11:24:51.801Z"
   },
   {
    "duration": 9,
    "start_time": "2025-04-19T11:24:53.402Z"
   },
   {
    "duration": 147,
    "start_time": "2025-04-19T11:24:53.414Z"
   },
   {
    "duration": 17,
    "start_time": "2025-04-19T11:24:53.563Z"
   },
   {
    "duration": 272,
    "start_time": "2025-04-19T11:24:53.582Z"
   },
   {
    "duration": 84,
    "start_time": "2025-04-19T11:24:53.855Z"
   },
   {
    "duration": 224,
    "start_time": "2025-04-19T11:24:53.942Z"
   },
   {
    "duration": 70,
    "start_time": "2025-04-19T11:24:54.168Z"
   },
   {
    "duration": 9,
    "start_time": "2025-04-19T11:24:54.239Z"
   },
   {
    "duration": 257,
    "start_time": "2025-04-19T11:24:54.249Z"
   },
   {
    "duration": 38,
    "start_time": "2025-04-19T11:24:54.508Z"
   },
   {
    "duration": 36,
    "start_time": "2025-04-19T11:24:54.548Z"
   },
   {
    "duration": 85,
    "start_time": "2025-04-19T11:24:54.586Z"
   },
   {
    "duration": 11,
    "start_time": "2025-04-19T11:24:54.673Z"
   },
   {
    "duration": 26,
    "start_time": "2025-04-19T11:24:54.686Z"
   },
   {
    "duration": 47,
    "start_time": "2025-04-19T11:24:54.714Z"
   },
   {
    "duration": 74,
    "start_time": "2025-04-19T11:24:54.762Z"
   },
   {
    "duration": 205,
    "start_time": "2025-04-19T11:24:54.837Z"
   },
   {
    "duration": 19,
    "start_time": "2025-04-19T11:24:55.044Z"
   },
   {
    "duration": 352,
    "start_time": "2025-04-19T11:24:55.065Z"
   },
   {
    "duration": 21,
    "start_time": "2025-04-19T11:24:55.418Z"
   },
   {
    "duration": 61,
    "start_time": "2025-04-19T11:24:55.441Z"
   },
   {
    "duration": 3,
    "start_time": "2025-04-19T11:24:55.504Z"
   },
   {
    "duration": 2461,
    "start_time": "2025-04-19T11:28:00.505Z"
   },
   {
    "duration": 3786,
    "start_time": "2025-04-19T11:29:37.612Z"
   },
   {
    "duration": 51,
    "start_time": "2025-04-19T11:29:41.400Z"
   },
   {
    "duration": 14,
    "start_time": "2025-04-19T11:29:41.453Z"
   },
   {
    "duration": 21,
    "start_time": "2025-04-19T11:29:41.469Z"
   },
   {
    "duration": 5,
    "start_time": "2025-04-19T11:29:41.493Z"
   },
   {
    "duration": 8,
    "start_time": "2025-04-19T11:29:41.499Z"
   },
   {
    "duration": 105,
    "start_time": "2025-04-19T11:29:41.544Z"
   },
   {
    "duration": 268,
    "start_time": "2025-04-19T11:29:41.651Z"
   },
   {
    "duration": 159,
    "start_time": "2025-04-19T11:29:41.921Z"
   },
   {
    "duration": 14,
    "start_time": "2025-04-19T11:29:42.081Z"
   },
   {
    "duration": 10,
    "start_time": "2025-04-19T11:29:42.097Z"
   },
   {
    "duration": 1841,
    "start_time": "2025-04-19T11:29:42.109Z"
   },
   {
    "duration": 9,
    "start_time": "2025-04-19T11:29:43.952Z"
   },
   {
    "duration": 135,
    "start_time": "2025-04-19T11:29:43.963Z"
   },
   {
    "duration": 19,
    "start_time": "2025-04-19T11:29:44.099Z"
   },
   {
    "duration": 9721,
    "start_time": "2025-04-19T21:37:52.543Z"
   },
   {
    "duration": 45,
    "start_time": "2025-04-19T21:38:02.266Z"
   },
   {
    "duration": 13,
    "start_time": "2025-04-19T21:38:02.312Z"
   },
   {
    "duration": 21,
    "start_time": "2025-04-19T21:38:02.326Z"
   },
   {
    "duration": 6,
    "start_time": "2025-04-19T21:38:02.349Z"
   },
   {
    "duration": 45,
    "start_time": "2025-04-19T21:38:02.356Z"
   },
   {
    "duration": 112,
    "start_time": "2025-04-19T21:38:02.403Z"
   },
   {
    "duration": 281,
    "start_time": "2025-04-19T21:38:02.517Z"
   },
   {
    "duration": 158,
    "start_time": "2025-04-19T21:38:02.800Z"
   },
   {
    "duration": 13,
    "start_time": "2025-04-19T21:38:02.960Z"
   },
   {
    "duration": 27,
    "start_time": "2025-04-19T21:38:02.975Z"
   },
   {
    "duration": 1642,
    "start_time": "2025-04-19T21:38:03.004Z"
   },
   {
    "duration": 8,
    "start_time": "2025-04-19T21:38:04.648Z"
   },
   {
    "duration": 141,
    "start_time": "2025-04-19T21:38:04.659Z"
   },
   {
    "duration": 19,
    "start_time": "2025-04-19T21:38:04.801Z"
   },
   {
    "duration": 157,
    "start_time": "2025-04-19T21:38:04.822Z"
   },
   {
    "duration": 89,
    "start_time": "2025-04-19T21:38:04.981Z"
   },
   {
    "duration": 239,
    "start_time": "2025-04-19T21:38:05.072Z"
   },
   {
    "duration": 60,
    "start_time": "2025-04-19T21:38:05.312Z"
   },
   {
    "duration": 10,
    "start_time": "2025-04-19T21:38:05.374Z"
   },
   {
    "duration": 243,
    "start_time": "2025-04-19T21:38:05.405Z"
   },
   {
    "duration": 32,
    "start_time": "2025-04-19T21:38:05.650Z"
   },
   {
    "duration": 57,
    "start_time": "2025-04-19T21:38:05.683Z"
   },
   {
    "duration": 82,
    "start_time": "2025-04-19T21:38:05.741Z"
   },
   {
    "duration": 12,
    "start_time": "2025-04-19T21:38:05.825Z"
   },
   {
    "duration": 32,
    "start_time": "2025-04-19T21:38:05.839Z"
   },
   {
    "duration": 71,
    "start_time": "2025-04-19T21:38:05.872Z"
   },
   {
    "duration": 15,
    "start_time": "2025-04-19T21:38:05.945Z"
   },
   {
    "duration": 275,
    "start_time": "2025-04-19T21:38:05.962Z"
   },
   {
    "duration": 21,
    "start_time": "2025-04-19T21:38:06.239Z"
   },
   {
    "duration": 334,
    "start_time": "2025-04-19T21:38:06.262Z"
   },
   {
    "duration": 14,
    "start_time": "2025-04-19T21:38:06.604Z"
   },
   {
    "duration": 53,
    "start_time": "2025-04-19T21:38:06.620Z"
   },
   {
    "duration": 5,
    "start_time": "2025-04-19T21:38:06.675Z"
   },
   {
    "duration": 10315,
    "start_time": "2025-04-21T06:04:34.103Z"
   },
   {
    "duration": 35,
    "start_time": "2025-04-21T06:04:44.420Z"
   },
   {
    "duration": 13,
    "start_time": "2025-04-21T06:04:44.457Z"
   },
   {
    "duration": 26,
    "start_time": "2025-04-21T06:04:44.472Z"
   },
   {
    "duration": 6,
    "start_time": "2025-04-21T06:04:44.500Z"
   },
   {
    "duration": 25,
    "start_time": "2025-04-21T06:04:44.507Z"
   },
   {
    "duration": 97,
    "start_time": "2025-04-21T06:04:44.534Z"
   },
   {
    "duration": 280,
    "start_time": "2025-04-21T06:04:44.633Z"
   },
   {
    "duration": 152,
    "start_time": "2025-04-21T06:04:44.914Z"
   },
   {
    "duration": 12,
    "start_time": "2025-04-21T06:04:45.069Z"
   },
   {
    "duration": 118,
    "start_time": "2025-04-21T06:04:45.083Z"
   },
   {
    "duration": 1726,
    "start_time": "2025-04-21T06:04:45.203Z"
   },
   {
    "duration": 15,
    "start_time": "2025-04-21T06:04:46.930Z"
   },
   {
    "duration": 156,
    "start_time": "2025-04-21T06:04:46.946Z"
   },
   {
    "duration": 18,
    "start_time": "2025-04-21T06:04:47.104Z"
   },
   {
    "duration": 149,
    "start_time": "2025-04-21T06:04:47.124Z"
   },
   {
    "duration": 88,
    "start_time": "2025-04-21T06:04:47.275Z"
   },
   {
    "duration": 239,
    "start_time": "2025-04-21T06:04:47.364Z"
   },
   {
    "duration": 83,
    "start_time": "2025-04-21T06:04:47.606Z"
   },
   {
    "duration": 56,
    "start_time": "2025-04-21T06:04:47.691Z"
   },
   {
    "duration": 324,
    "start_time": "2025-04-21T06:04:47.748Z"
   },
   {
    "duration": 32,
    "start_time": "2025-04-21T06:04:48.074Z"
   },
   {
    "duration": 53,
    "start_time": "2025-04-21T06:04:48.108Z"
   },
   {
    "duration": 83,
    "start_time": "2025-04-21T06:04:48.162Z"
   },
   {
    "duration": 12,
    "start_time": "2025-04-21T06:04:48.247Z"
   },
   {
    "duration": 14,
    "start_time": "2025-04-21T06:04:48.261Z"
   },
   {
    "duration": 69,
    "start_time": "2025-04-21T06:04:48.276Z"
   },
   {
    "duration": 15,
    "start_time": "2025-04-21T06:04:48.349Z"
   },
   {
    "duration": 236,
    "start_time": "2025-04-21T06:04:48.366Z"
   },
   {
    "duration": 22,
    "start_time": "2025-04-21T06:04:48.604Z"
   },
   {
    "duration": 383,
    "start_time": "2025-04-21T06:04:48.640Z"
   },
   {
    "duration": 16,
    "start_time": "2025-04-21T06:04:49.025Z"
   },
   {
    "duration": 63,
    "start_time": "2025-04-21T06:04:49.043Z"
   },
   {
    "duration": 13,
    "start_time": "2025-04-21T06:04:49.107Z"
   },
   {
    "duration": 61,
    "start_time": "2025-04-21T06:04:49.122Z"
   },
   {
    "duration": 4,
    "start_time": "2025-04-21T06:04:49.184Z"
   },
   {
    "duration": 48,
    "start_time": "2025-04-21T06:05:23.234Z"
   },
   {
    "duration": 13,
    "start_time": "2025-04-21T06:06:20.415Z"
   },
   {
    "duration": 4007,
    "start_time": "2025-04-21T06:08:00.989Z"
   },
   {
    "duration": 35,
    "start_time": "2025-04-21T06:08:04.999Z"
   },
   {
    "duration": 18,
    "start_time": "2025-04-21T06:08:05.036Z"
   },
   {
    "duration": 33,
    "start_time": "2025-04-21T06:08:05.056Z"
   },
   {
    "duration": 21,
    "start_time": "2025-04-21T06:08:05.091Z"
   },
   {
    "duration": 46,
    "start_time": "2025-04-21T06:08:05.114Z"
   },
   {
    "duration": 111,
    "start_time": "2025-04-21T06:08:05.162Z"
   },
   {
    "duration": 280,
    "start_time": "2025-04-21T06:08:05.275Z"
   },
   {
    "duration": 164,
    "start_time": "2025-04-21T06:08:05.557Z"
   },
   {
    "duration": 22,
    "start_time": "2025-04-21T06:08:05.723Z"
   },
   {
    "duration": 24,
    "start_time": "2025-04-21T06:08:05.747Z"
   },
   {
    "duration": 1653,
    "start_time": "2025-04-21T06:08:05.773Z"
   },
   {
    "duration": 11,
    "start_time": "2025-04-21T06:08:07.428Z"
   },
   {
    "duration": 719,
    "start_time": "2025-04-21T06:08:07.443Z"
   },
   {
    "duration": 2196,
    "start_time": "2025-04-21T06:08:08.164Z"
   },
   {
    "duration": 761,
    "start_time": "2025-04-21T06:08:10.362Z"
   },
   {
    "duration": 84,
    "start_time": "2025-04-21T06:08:11.125Z"
   },
   {
    "duration": 240,
    "start_time": "2025-04-21T06:08:11.210Z"
   },
   {
    "duration": 61,
    "start_time": "2025-04-21T06:08:11.452Z"
   },
   {
    "duration": 27,
    "start_time": "2025-04-21T06:08:11.514Z"
   },
   {
    "duration": 281,
    "start_time": "2025-04-21T06:08:11.542Z"
   },
   {
    "duration": 31,
    "start_time": "2025-04-21T06:08:11.824Z"
   },
   {
    "duration": 61,
    "start_time": "2025-04-21T06:08:11.857Z"
   },
   {
    "duration": 79,
    "start_time": "2025-04-21T06:08:11.920Z"
   },
   {
    "duration": 12,
    "start_time": "2025-04-21T06:08:12.001Z"
   },
   {
    "duration": 25,
    "start_time": "2025-04-21T06:08:12.015Z"
   },
   {
    "duration": 65,
    "start_time": "2025-04-21T06:08:12.042Z"
   },
   {
    "duration": 17,
    "start_time": "2025-04-21T06:08:12.108Z"
   },
   {
    "duration": 241,
    "start_time": "2025-04-21T06:08:12.127Z"
   },
   {
    "duration": 21,
    "start_time": "2025-04-21T06:08:12.370Z"
   },
   {
    "duration": 365,
    "start_time": "2025-04-21T06:08:12.393Z"
   },
   {
    "duration": 13,
    "start_time": "2025-04-21T06:08:12.760Z"
   },
   {
    "duration": 107,
    "start_time": "2025-04-21T06:08:12.774Z"
   },
   {
    "duration": 65,
    "start_time": "2025-04-21T06:08:12.883Z"
   },
   {
    "duration": 66,
    "start_time": "2025-04-21T06:08:12.949Z"
   },
   {
    "duration": 5,
    "start_time": "2025-04-21T06:08:13.017Z"
   }
  ],
  "colab": {
   "provenance": [],
   "toc_visible": true
  },
  "kernelspec": {
   "display_name": "Python 3 (ipykernel)",
   "language": "python",
   "name": "python3"
  },
  "language_info": {
   "codemirror_mode": {
    "name": "ipython",
    "version": 3
   },
   "file_extension": ".py",
   "mimetype": "text/x-python",
   "name": "python",
   "nbconvert_exporter": "python",
   "pygments_lexer": "ipython3",
   "version": "3.9.5"
  },
  "toc": {
   "base_numbering": 1,
   "nav_menu": {},
   "number_sections": true,
   "sideBar": true,
   "skip_h1_title": true,
   "title_cell": "Table of Contents",
   "title_sidebar": "Contents",
   "toc_cell": false,
   "toc_position": {},
   "toc_section_display": true,
   "toc_window_display": false
  }
 },
 "nbformat": 4,
 "nbformat_minor": 5
}
